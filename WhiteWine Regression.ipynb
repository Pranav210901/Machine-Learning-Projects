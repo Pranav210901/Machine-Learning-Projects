{
  "cells": [
    {
      "cell_type": "code",
      "execution_count": null,
      "metadata": {
        "colab": {
          "base_uri": "https://localhost:8080/"
        },
        "id": "x70KQtI3GSNR",
        "outputId": "76422142-6979-423c-8b6a-a8633faf20ef"
      },
      "outputs": [
        {
          "name": "stdout",
          "output_type": "stream",
          "text": [
            "URL transformed to HTTPS due to an HSTS policy\n",
            "--2023-03-20 23:38:48--  https://www.cs.umn.edu/~sjguy/data/WhiteWine.txt\n",
            "Resolving www.cs.umn.edu (www.cs.umn.edu)... 104.18.20.107, 104.18.21.107, 2606:4700::6812:156b, ...\n",
            "Connecting to www.cs.umn.edu (www.cs.umn.edu)|104.18.20.107|:443... connected.\n",
            "HTTP request sent, awaiting response... 301 Moved Permanently\n",
            "Location: http://www-users.cs.umn.edu/~sjguy/data/WhiteWine.txt [following]\n",
            "--2023-03-20 23:38:49--  http://www-users.cs.umn.edu/~sjguy/data/WhiteWine.txt\n",
            "Resolving www-users.cs.umn.edu (www-users.cs.umn.edu)... 134.84.66.195\n",
            "Connecting to www-users.cs.umn.edu (www-users.cs.umn.edu)|134.84.66.195|:80... connected.\n",
            "HTTP request sent, awaiting response... 301 Moved Permanently\n",
            "Location: https://www-users.cse.umn.edu/~sjguy/data/WhiteWine.txt [following]\n",
            "--2023-03-20 23:38:49--  https://www-users.cse.umn.edu/~sjguy/data/WhiteWine.txt\n",
            "Resolving www-users.cse.umn.edu (www-users.cse.umn.edu)... 134.84.66.195\n",
            "Connecting to www-users.cse.umn.edu (www-users.cse.umn.edu)|134.84.66.195|:443... connected.\n",
            "HTTP request sent, awaiting response... 200 OK\n",
            "Length: 264426 (258K) [text/plain]\n",
            "Saving to: ‘WhiteWine.txt.1’\n",
            "\n",
            "WhiteWine.txt.1     100%[===================>] 258.23K  --.-KB/s    in 0.1s    \n",
            "\n",
            "2023-03-20 23:38:50 (1.82 MB/s) - ‘WhiteWine.txt.1’ saved [264426/264426]\n",
            "\n"
          ]
        }
      ],
      "source": [
        "!wget www.cs.umn.edu/~sjguy/data/WhiteWine.txt"
      ]
    },
    {
      "attachments": {},
      "cell_type": "markdown",
      "metadata": {},
      "source": [
        "This Notebook delves into the fascinating world of data analysis using PyTorch. In this notebook, I embark on an exploration of logistic regression, employing three distinct models: linear, non-linear, and multilinear. \n",
        "By applying the powerful gradient descent algorithm, I aim to gain deeper insights into the white wine dataset and perform a K-Folds cross validation to get the best threshold accuracy amongst the 3 models. "
      ]
    },
    {
      "cell_type": "code",
      "execution_count": null,
      "metadata": {
        "id": "dGO3EFoiG4cc"
      },
      "outputs": [],
      "source": [
        "import torch\n",
        "import numpy as np\n",
        "import seaborn as sns\n",
        "import matplotlib.pyplot as plt\n",
        "import matplotlib as mpl\n",
        "import pandas as pd"
      ]
    },
    {
      "cell_type": "code",
      "execution_count": null,
      "metadata": {
        "id": "LgaoWb1oOpey"
      },
      "outputs": [],
      "source": [
        "data_pd = pd.read_csv(\"WhiteWine.txt\")"
      ]
    },
    {
      "cell_type": "code",
      "execution_count": null,
      "metadata": {
        "colab": {
          "base_uri": "https://localhost:8080/",
          "height": 296
        },
        "id": "RsPeNznnIDtk",
        "outputId": "29b25d64-6bfb-4761-e62d-e3cc81778c68"
      },
      "outputs": [
        {
          "data": {
            "text/plain": [
              "<Axes: xlabel='quality', ylabel='Count'>"
            ]
          },
          "execution_count": 7,
          "metadata": {},
          "output_type": "execute_result"
        },
        {
          "data": {
            "image/png": "[encoded data removed]",
            "text/plain": [
              "<Figure size 432x288 with 1 Axes>"
            ]
          },
          "metadata": {
            "needs_background": "light"
          },
          "output_type": "display_data"
        }
      ],
      "source": [
        "sns.histplot(data_pd[\"quality\"])"
      ]
    },
    {
      "cell_type": "code",
      "execution_count": null,
      "metadata": {
        "colab": {
          "base_uri": "https://localhost:8080/",
          "height": 487
        },
        "id": "zrPkGpo5JBb-",
        "outputId": "e5a93f0f-ab5b-4c3e-8d58-bc6386f35d7f"
      },
      "outputs": [
        {
          "name": "stderr",
          "output_type": "stream",
          "text": [
            "<ipython-input-8-154cae9a550a>:1: UserWarning: \n",
            "\n",
            "`distplot` is a deprecated function and will be removed in seaborn v0.14.0.\n",
            "\n",
            "Please adapt your code to use either `displot` (a figure-level function with\n",
            "similar flexibility) or `histplot` (an axes-level function for histograms).\n",
            "\n",
            "For a guide to updating your code to use the new functions, please see\n",
            "https://gist.github.com/mwaskom/de44147ed2974457ad6372750bbe5751\n",
            "\n",
            "  sns.distplot(data_pd[\"alcohol\"], kde=True)\n"
          ]
        },
        {
          "data": {
            "text/plain": [
              "<Axes: xlabel='alcohol', ylabel='Density'>"
            ]
          },
          "execution_count": 8,
          "metadata": {},
          "output_type": "execute_result"
        },
        {
          "data": {
            "image/png": "[encoded data removed]",
            "text/plain": [
              "<Figure size 432x288 with 1 Axes>"
            ]
          },
          "metadata": {
            "needs_background": "light"
          },
          "output_type": "display_data"
        }
      ],
      "source": [
        "sns.distplot(data_pd[\"alcohol\"], kde=True)"
      ]
    },
    {
      "cell_type": "code",
      "execution_count": null,
      "metadata": {
        "colab": {
          "base_uri": "https://localhost:8080/",
          "height": 487
        },
        "id": "Oyv_Pb_9JJst",
        "outputId": "0cd86101-d05d-4fc3-f8b1-325512955c51"
      },
      "outputs": [
        {
          "name": "stderr",
          "output_type": "stream",
          "text": [
            "<ipython-input-9-8f508205db65>:1: UserWarning: \n",
            "\n",
            "`distplot` is a deprecated function and will be removed in seaborn v0.14.0.\n",
            "\n",
            "Please adapt your code to use either `displot` (a figure-level function with\n",
            "similar flexibility) or `histplot` (an axes-level function for histograms).\n",
            "\n",
            "For a guide to updating your code to use the new functions, please see\n",
            "https://gist.github.com/mwaskom/de44147ed2974457ad6372750bbe5751\n",
            "\n",
            "  sns.distplot(data_pd[\"density\"], kde=True)\n"
          ]
        },
        {
          "data": {
            "text/plain": [
              "<Axes: xlabel='density', ylabel='Density'>"
            ]
          },
          "execution_count": 9,
          "metadata": {},
          "output_type": "execute_result"
        },
        {
          "data": {
            "image/png": "[encoded data removed]",
            "text/plain": [
              "<Figure size 432x288 with 1 Axes>"
            ]
          },
          "metadata": {
            "needs_background": "light"
          },
          "output_type": "display_data"
        }
      ],
      "source": [
        "sns.distplot(data_pd[\"density\"], kde=True)"
      ]
    },
    {
      "cell_type": "code",
      "execution_count": null,
      "metadata": {
        "colab": {
          "base_uri": "https://localhost:8080/",
          "height": 458
        },
        "id": "trD9Dm3RJerd",
        "outputId": "3b5d684b-2c24-4555-fce0-4abdd5a5322b"
      },
      "outputs": [
        {
          "data": {
            "text/plain": [
              "<seaborn.axisgrid.JointGrid at 0x7fc36b26b190>"
            ]
          },
          "execution_count": 10,
          "metadata": {},
          "output_type": "execute_result"
        },
        {
          "data": {
            "image/png": "[encoded data removed]",
            "text/plain": [
              "<Figure size 432x432 with 3 Axes>"
            ]
          },
          "metadata": {
            "needs_background": "light"
          },
          "output_type": "display_data"
        }
      ],
      "source": [
        "sns.jointplot(data=data_pd, x=\"alcohol\", y=\"density\")"
      ]
    },
    {
      "cell_type": "markdown",
      "metadata": {
        "id": "IIGSifCfZ1IV"
      },
      "source": [
        "1D"
      ]
    },
    {
      "cell_type": "code",
      "execution_count": null,
      "metadata": {
        "id": "GRwDLs9QJ4E-"
      },
      "outputs": [],
      "source": [
        "joint = pd.DataFrame.corr(data_pd)"
      ]
    },
    {
      "cell_type": "code",
      "execution_count": null,
      "metadata": {
        "colab": {
          "base_uri": "https://localhost:8080/",
          "height": 370
        },
        "id": "ViSIJUgXKRkG",
        "outputId": "5b653504-8a17-43c7-d9ba-470a22ed2af1"
      },
      "outputs": [
        {
          "data": {
            "text/plain": [
              "<Axes: >"
            ]
          },
          "execution_count": 12,
          "metadata": {},
          "output_type": "execute_result"
        },
        {
          "data": {
            "image/png": "[encoded data removed]",
            "text/plain": [
              "<Figure size 432x288 with 2 Axes>"
            ]
          },
          "metadata": {
            "needs_background": "light"
          },
          "output_type": "display_data"
        }
      ],
      "source": [
        "sns.heatmap(joint, cmap='coolwarm')"
      ]
    },
    {
      "cell_type": "code",
      "execution_count": null,
      "metadata": {
        "id": "nze-l-lnMxNP"
      },
      "outputs": [],
      "source": [
        "y_pt = torch.tensor(data_pd[\"pH\"].values)/4\n",
        "x_pt = torch.tensor(data_pd[\"quality\"].values)/9"
      ]
    },
    {
      "cell_type": "code",
      "execution_count": null,
      "metadata": {
        "colab": {
          "base_uri": "https://localhost:8080/",
          "height": 282
        },
        "id": "0HaLXx-xPWpB",
        "outputId": "a56d0519-1afa-4f60-e1a6-d7d625512222"
      },
      "outputs": [
        {
          "data": {
            "text/plain": [
              "<Axes: >"
            ]
          },
          "execution_count": 14,
          "metadata": {},
          "output_type": "execute_result"
        },
        {
          "data": {
            "image/png": "[encoded data removed]",
            "text/plain": [
              "<Figure size 432x288 with 1 Axes>"
            ]
          },
          "metadata": {
            "needs_background": "light"
          },
          "output_type": "display_data"
        }
      ],
      "source": [
        "sns.scatterplot(x=x_pt,y=y_pt)"
      ]
    },
    {
      "cell_type": "code",
      "execution_count": null,
      "metadata": {
        "colab": {
          "base_uri": "https://localhost:8080/"
        },
        "id": "-WVZl-uzNDb_",
        "outputId": "fe15f485-cd19-4f65-ba38-46cc5d2f3232"
      },
      "outputs": [
        {
          "name": "stdout",
          "output_type": "stream",
          "text": [
            "m= 0.1082400381565094 b= 0.11263513565063477 loss= 0.400564081832298\n",
            "m= 0.37959080934524536 b= 0.5457797646522522 loss= 0.0025513332091744254\n",
            "m= 0.37129029631614685 b= 0.5530872941017151 loss= 0.0024877235990141506\n",
            "m= 0.36238783597946167 b= 0.5589467287063599 loss= 0.0024309168557423836\n",
            "m= 0.3537210524082184 b= 0.5646455883979797 loss= 0.0023771061416897514\n",
            "m= 0.34528598189353943 b= 0.5701920390129089 loss= 0.002326135000575691\n",
            "m= 0.3370762765407562 b= 0.5755904316902161 loss= 0.0022778504874149904\n",
            "m= 0.3290860950946808 b= 0.5808443427085876 loss= 0.0022321145176781806\n",
            "m= 0.32130950689315796 b= 0.5859578847885132 loss= 0.002188790372131092\n",
            "m= 0.3137407600879669 b= 0.5909347534179688 loss= 0.0021477510383907487\n"
          ]
        }
      ],
      "source": [
        "lr = 0.01 #Larger lr goes faster, but what about too large an lr?\n",
        "\n",
        "m = torch.Tensor([0.1]).float()\n",
        "m.requires_grad = True\n",
        "b = torch.Tensor([0.1]).float()\n",
        "b.requires_grad = True\n",
        "\n",
        "for epoch in range(2000):\n",
        "  y_pred = m*x_pt+b\n",
        "  loss_tenor = (y_pred - y_pt)**2\n",
        "  loss = loss_tenor.mean()\n",
        "  loss.backward()\n",
        "  with torch.no_grad():\n",
        "    m -= m.grad*lr\n",
        "    b -= b.grad*lr\n",
        "    m.grad.zero_()\n",
        "    b.grad.zero_()\n",
        "  if epoch%200==0:\n",
        "    print(\"m=\",m.item(),\"b=\",b.item(),\"loss=\",loss.item())"
      ]
    },
    {
      "cell_type": "code",
      "execution_count": null,
      "metadata": {
        "colab": {
          "base_uri": "https://localhost:8080/"
        },
        "id": "OTNjtsXVNU53",
        "outputId": "0db76d80-26f1-412b-c97a-6b5af0ccb4b6"
      },
      "outputs": [
        {
          "data": {
            "text/plain": [
              "tensor(0.0021, dtype=torch.float64, grad_fn=<MeanBackward0>)"
            ]
          },
          "execution_count": 16,
          "metadata": {},
          "output_type": "execute_result"
        }
      ],
      "source": [
        "((y_pred - y_pt)**2).mean()"
      ]
    },
    {
      "cell_type": "code",
      "execution_count": null,
      "metadata": {
        "colab": {
          "base_uri": "https://localhost:8080/",
          "height": 282
        },
        "id": "uW8phoVGOorQ",
        "outputId": "dc5fbd89-3a99-40b8-effc-f6901b664562"
      },
      "outputs": [
        {
          "data": {
            "text/plain": [
              "[<matplotlib.lines.Line2D at 0x7fc3662bad90>]"
            ]
          },
          "execution_count": 17,
          "metadata": {},
          "output_type": "execute_result"
        },
        {
          "data": {
            "image/png": "[encoded data removed]",
            "text/plain": [
              "<Figure size 432x288 with 1 Axes>"
            ]
          },
          "metadata": {
            "needs_background": "light"
          },
          "output_type": "display_data"
        }
      ],
      "source": [
        "sns.scatterplot(x=x_pt,y=y_pt)\n",
        "y_intercept =  b.detach().numpy()\n",
        "slope =  m.detach().numpy()\n",
        "plt.plot([0,1],[y_intercept,slope+y_intercept], color=\"red\")"
      ]
    },
    {
      "cell_type": "code",
      "execution_count": null,
      "metadata": {
        "colab": {
          "base_uri": "https://localhost:8080/",
          "height": 367
        },
        "id": "WVATxPafQyL_",
        "outputId": "8eb47953-7e21-4fbf-cc82-9d024d28c79e"
      },
      "outputs": [
        {
          "data": {
            "text/plain": [
              "<Axes: >"
            ]
          },
          "execution_count": 21,
          "metadata": {},
          "output_type": "execute_result"
        },
        {
          "data": {
            "image/png": "[encoded data removed]",
            "text/plain": [
              "<Figure size 432x288 with 2 Axes>"
            ]
          },
          "metadata": {
            "needs_background": "light"
          },
          "output_type": "display_data"
        }
      ],
      "source": [
        "corr = data_pd[['pH', 'free sulfur dioxide', 'citric acid','quality']].corr()\n",
        "sns.heatmap(corr, cmap='coolwarm')"
      ]
    },
    {
      "cell_type": "markdown",
      "metadata": {
        "id": "-cPDieVXGAFi"
      },
      "source": []
    },
    {
      "cell_type": "code",
      "execution_count": null,
      "metadata": {
        "id": "9SwPatyVR4f8"
      },
      "outputs": [],
      "source": [
        "features = [\"pH\", \"free sulfur dioxide\", \"alcohol\"]\n",
        "x_lin = torch.Tensor(data_pd[\"alcohol\"].values)\n",
        "x = torch.Tensor(data_pd[features].values)\n",
        "y = torch.Tensor(data_pd[\"quality\"].values)"
      ]
    },
    {
      "cell_type": "code",
      "execution_count": null,
      "metadata": {
        "colab": {
          "base_uri": "https://localhost:8080/"
        },
        "id": "u8Lezy7KSIsb",
        "outputId": "3e9b9c42-edd4-41cf-a427-802443e6131f"
      },
      "outputs": [
        {
          "data": {
            "text/plain": [
              "tensor([ 3.1883, 35.3081, 10.5143])"
            ]
          },
          "execution_count": 23,
          "metadata": {},
          "output_type": "execute_result"
        }
      ],
      "source": [
        "x_mean = x.mean(dim=0)\n",
        "x_mean"
      ]
    },
    {
      "cell_type": "code",
      "execution_count": null,
      "metadata": {
        "id": "OuY-XKUyS4FO"
      },
      "outputs": [],
      "source": [
        "x_norm = (x-x_mean)/x_mean\n",
        "y_mean = y.mean(dim=0)\n",
        "y_norm = (y-y_mean)/y_mean"
      ]
    },
    {
      "cell_type": "code",
      "execution_count": null,
      "metadata": {
        "id": "H0iGtGjiPudy"
      },
      "outputs": [],
      "source": [
        "def gradDec(model, n_params, x, y, lr=0.01, n_epochs=2000, print_rate=200):\n",
        "\n",
        "  params = 0.1*torch.rand(n_params).float() #Random inital paramaters\n",
        "  params.requires_grad = True\n",
        "\n",
        "  for epoch in range(n_epochs):\n",
        "    y_predict = model(params, x)\n",
        "    loss_tenor = (y_predict - y)**2\n",
        "    loss = loss_tenor.mean()\n",
        "    loss.backward()\n",
        "    with torch.no_grad():\n",
        "      params -= lr*params.grad\n",
        "      params.grad.zero_()\n",
        "    if epoch%print_rate==0:\n",
        "      print(\"epoch:\",epoch,\"loss=\",loss.item())\n",
        "\n",
        "  return params"
      ]
    },
    {
      "attachments": {},
      "cell_type": "markdown",
      "metadata": {
        "id": "S2QtWqMSa0kn"
      },
      "source": [
        "Linear model"
      ]
    },
    {
      "cell_type": "code",
      "execution_count": null,
      "metadata": {
        "id": "e709TQ04Ptha"
      },
      "outputs": [],
      "source": [
        "def linearModel(params, inputs):\n",
        "  y_predict = params[0]*inputs + params[1]\n",
        "  return y_predict"
      ]
    },
    {
      "cell_type": "code",
      "execution_count": null,
      "metadata": {
        "colab": {
          "base_uri": "https://localhost:8080/"
        },
        "id": "r7hcr_-6ilca",
        "outputId": "aac32c78-d852-4e1f-a8a6-751d1dea1b5a"
      },
      "outputs": [
        {
          "name": "stdout",
          "output_type": "stream",
          "text": [
            "epoch: 0 loss= 34.712039947509766\n",
            "epoch: 200 loss= 0.7188988327980042\n",
            "epoch: 400 loss= 0.7180091142654419\n",
            "epoch: 600 loss= 0.7171288132667542\n",
            "epoch: 800 loss= 0.7162579298019409\n",
            "epoch: 1000 loss= 0.7153963446617126\n",
            "epoch: 1200 loss= 0.7145439386367798\n",
            "epoch: 1400 loss= 0.7137007117271423\n",
            "epoch: 1600 loss= 0.7128661870956421\n",
            "epoch: 1800 loss= 0.7120408415794373\n"
          ]
        }
      ],
      "source": [
        "params1 = gradDec(linearModel,2,x_lin,y,0.001)\n",
        "pred1 = linearModel(params1, x_lin)\n",
        "pred1_detached = pred1.detach().numpy()"
      ]
    },
    {
      "cell_type": "code",
      "execution_count": null,
      "metadata": {
        "colab": {
          "base_uri": "https://localhost:8080/",
          "height": 282
        },
        "id": "GDmzXlsYj2uU",
        "outputId": "16bc7477-55b4-4cad-c517-713dcad87657"
      },
      "outputs": [
        {
          "data": {
            "text/plain": [
              "<Axes: >"
            ]
          },
          "execution_count": 51,
          "metadata": {},
          "output_type": "execute_result"
        },
        {
          "data": {
            "image/png": "[encoded data removed]",
            "text/plain": [
              "<Figure size 432x288 with 1 Axes>"
            ]
          },
          "metadata": {
            "needs_background": "light"
          },
          "output_type": "display_data"
        }
      ],
      "source": [
        "sns.violinplot(x=data_pd['quality'].to_numpy() , y=pred1_detached )"
      ]
    },
    {
      "attachments": {},
      "cell_type": "markdown",
      "metadata": {
        "id": "0rnouzzna3z-"
      },
      "source": [
        "Multilinear model"
      ]
    },
    {
      "cell_type": "code",
      "execution_count": null,
      "metadata": {
        "id": "DZe-BgGKTUno"
      },
      "outputs": [],
      "source": [
        "def multiLinearModel(params, inputs):\n",
        "  y_predict = params[0]*inputs[:,0] + params[1]*inputs[:,1] + params[2]*inputs[:,2] + params[3]\n",
        "  return y_predict"
      ]
    },
    {
      "cell_type": "code",
      "execution_count": null,
      "metadata": {
        "colab": {
          "base_uri": "https://localhost:8080/"
        },
        "id": "2HCEodYnkUHW",
        "outputId": "48f241e6-95d7-4913-c3d0-cd3bb5c1fa0c"
      },
      "outputs": [
        {
          "name": "stdout",
          "output_type": "stream",
          "text": [
            "epoch: 0 loss= 8.113890647888184\n",
            "epoch: 200 loss= 4.220888137817383\n",
            "epoch: 400 loss= 3.5675220489501953\n",
            "epoch: 600 loss= 3.0336410999298096\n",
            "epoch: 800 loss= 2.5973899364471436\n",
            "epoch: 1000 loss= 2.240912675857544\n",
            "epoch: 1200 loss= 1.9496222734451294\n",
            "epoch: 1400 loss= 1.711597204208374\n",
            "epoch: 1600 loss= 1.51710045337677\n",
            "epoch: 1800 loss= 1.3581676483154297\n",
            "epoch: 2000 loss= 1.2282954454421997\n",
            "epoch: 2200 loss= 1.122169852256775\n",
            "epoch: 2400 loss= 1.0354489088058472\n",
            "epoch: 2600 loss= 0.9645813703536987\n",
            "epoch: 2800 loss= 0.9066703915596008\n",
            "epoch: 3000 loss= 0.8593457937240601\n",
            "epoch: 3200 loss= 0.8206723928451538\n",
            "epoch: 3400 loss= 0.7890671491622925\n",
            "epoch: 3600 loss= 0.7632378935813904\n",
            "epoch: 3800 loss= 0.7421284914016724\n",
            "epoch: 4000 loss= 0.7248751521110535\n",
            "epoch: 4200 loss= 0.7107730507850647\n",
            "epoch: 4400 loss= 0.6992459893226624\n",
            "epoch: 4600 loss= 0.6898234486579895\n",
            "epoch: 4800 loss= 0.682119607925415\n",
            "epoch: 5000 loss= 0.6758207678794861\n",
            "epoch: 5200 loss= 0.6706701517105103\n",
            "epoch: 5400 loss= 0.6664572954177856\n",
            "epoch: 5600 loss= 0.6630111932754517\n",
            "epoch: 5800 loss= 0.6601912379264832\n"
          ]
        }
      ],
      "source": [
        "params2 = gradDec(multiLinearModel,4,x,y,0.00001,6000)\n",
        "pred2 = multiLinearModel(params2, x)\n",
        "pred2_detached = pred2.detach().numpy()"
      ]
    },
    {
      "cell_type": "code",
      "execution_count": null,
      "metadata": {
        "colab": {
          "base_uri": "https://localhost:8080/",
          "height": 282
        },
        "id": "joo_3jKlU_MW",
        "outputId": "3e0895a7-9153-49ca-996b-61a69df3727f"
      },
      "outputs": [
        {
          "data": {
            "text/plain": [
              "<Axes: >"
            ]
          },
          "execution_count": 32,
          "metadata": {},
          "output_type": "execute_result"
        },
        {
          "data": {
            "image/png": "[encoded data removed]",
            "text/plain": [
              "<Figure size 432x288 with 1 Axes>"
            ]
          },
          "metadata": {
            "needs_background": "light"
          },
          "output_type": "display_data"
        }
      ],
      "source": [
        "sns.violinplot(x=data_pd['quality'].to_numpy(), y=pred2_detached ) #multilinear"
      ]
    },
    {
      "attachments": {},
      "cell_type": "markdown",
      "metadata": {
        "id": "P7cxt3j1a6tH"
      },
      "source": [
        "Nonlinear model"
      ]
    },
    {
      "cell_type": "code",
      "execution_count": null,
      "metadata": {
        "id": "0r9izIzRYsJb"
      },
      "outputs": [],
      "source": [
        "def nonlinearModel(params, inputs):\n",
        "  y_predict = params[0]*inputs[:,0] + params[1]*inputs[:,1] + params[2]*inputs[:,2] + params[3]*inputs[:,0]*inputs[:,1] + params[4]\n",
        "  return y_predict"
      ]
    },
    {
      "cell_type": "code",
      "execution_count": null,
      "metadata": {
        "colab": {
          "base_uri": "https://localhost:8080/"
        },
        "id": "ksioFb8Dl-0k",
        "outputId": "8f48dc9a-35d6-4378-cc91-310e20e20cd6"
      },
      "outputs": [
        {
          "name": "stdout",
          "output_type": "stream",
          "text": [
            "epoch: 0 loss= 38.16273498535156\n",
            "epoch: 200 loss= 4.694300651550293\n",
            "epoch: 400 loss= 3.91562557220459\n",
            "epoch: 600 loss= 3.2869210243225098\n",
            "epoch: 800 loss= 2.7793023586273193\n",
            "epoch: 1000 loss= 2.369448184967041\n",
            "epoch: 1200 loss= 2.038527488708496\n",
            "epoch: 1400 loss= 1.77133309841156\n",
            "epoch: 1600 loss= 1.5555992126464844\n",
            "epoch: 1800 loss= 1.3814115524291992\n",
            "epoch: 2000 loss= 1.2407671213150024\n",
            "epoch: 2200 loss= 1.127205491065979\n",
            "epoch: 2400 loss= 1.0355106592178345\n",
            "epoch: 2600 loss= 0.9614697694778442\n",
            "epoch: 2800 loss= 0.9016836285591125\n",
            "epoch: 3000 loss= 0.8534078598022461\n",
            "epoch: 3200 loss= 0.8144243359565735\n",
            "epoch: 3400 loss= 0.782943069934845\n",
            "epoch: 3600 loss= 0.7575199604034424\n",
            "epoch: 3800 loss= 0.7369875311851501\n",
            "epoch: 4000 loss= 0.720404326915741\n",
            "epoch: 4200 loss= 0.707009494304657\n",
            "epoch: 4400 loss= 0.696188747882843\n",
            "epoch: 4600 loss= 0.6874465942382812\n",
            "epoch: 4800 loss= 0.680382251739502\n",
            "epoch: 5000 loss= 0.6746733784675598\n",
            "epoch: 5200 loss= 0.67005854845047\n",
            "epoch: 5400 loss= 0.6663268804550171\n",
            "epoch: 5600 loss= 0.6633083820343018\n",
            "epoch: 5800 loss= 0.660865843296051\n"
          ]
        }
      ],
      "source": [
        "params3 = gradDec(nonlinearModel,5,x,y,0.00001,6000)\n",
        "pred3 = nonlinearModel(params3, x)\n",
        "pred3_detached = pred3.detach().numpy()"
      ]
    },
    {
      "cell_type": "code",
      "execution_count": null,
      "metadata": {
        "colab": {
          "base_uri": "https://localhost:8080/",
          "height": 282
        },
        "id": "O-ocK79Ti1uj",
        "outputId": "1870dcf7-3c4a-4ffa-90b1-8a4415eb8ca0"
      },
      "outputs": [
        {
          "data": {
            "text/plain": [
              "<Axes: >"
            ]
          },
          "execution_count": 34,
          "metadata": {},
          "output_type": "execute_result"
        },
        {
          "data": {
            "image/png": "[encoded data removed]",
            "text/plain": [
              "<Figure size 432x288 with 1 Axes>"
            ]
          },
          "metadata": {
            "needs_background": "light"
          },
          "output_type": "display_data"
        }
      ],
      "source": [
        "sns.violinplot(x=data_pd['quality'].to_numpy(), y=pred3_detached)"
      ]
    },
    {
      "cell_type": "markdown",
      "metadata": {
        "id": "XcjF8bVCQIO3"
      },
      "source": [
        "Problem 3"
      ]
    },
    {
      "cell_type": "code",
      "execution_count": null,
      "metadata": {
        "id": "7j22GAiVmr4C"
      },
      "outputs": [],
      "source": [
        "def threshold_accuracy(y_true, y_pred, threshold):\n",
        "    correct = 0\n",
        "    for i in range(len(y_true)):\n",
        "        if abs(y_true[i] - y_pred[i]) <= threshold:\n",
        "            correct += 1\n",
        "    return correct / len(y_true)"
      ]
    },
    {
      "cell_type": "code",
      "execution_count": null,
      "metadata": {
        "colab": {
          "base_uri": "https://localhost:8080/"
        },
        "id": "0G3V3qvH3cXN",
        "outputId": "8eab8dff-80f7-4358-922d-731d933c73d5"
      },
      "outputs": [
        {
          "name": "stdout",
          "output_type": "stream",
          "text": [
            "Thresholded accuracy for Linear Model:  [0.2829726418946509, 0.48223764801959984, 0.8029808084932626]\n"
          ]
        }
      ],
      "source": [
        "acc= []\n",
        "for t in [0.25, 0.5, 1]:\n",
        "    acc.append(threshold_accuracy(y, pred1, t))\n",
        "print('Thresholded accuracy for Linear Model: ', acc)\n"
      ]
    },
    {
      "cell_type": "code",
      "execution_count": null,
      "metadata": {
        "colab": {
          "base_uri": "https://localhost:8080/"
        },
        "id": "eaJrrxXvnO6g",
        "outputId": "91b4582a-5c0b-40b5-fd7d-092bfd5cb55d"
      },
      "outputs": [
        {
          "name": "stdout",
          "output_type": "stream",
          "text": [
            "Thresholded accuracy for Multi Linear Model:  [0.245406288280931, 0.4897917517354022, 0.8246222948142099]\n"
          ]
        }
      ],
      "source": [
        "acc = []\n",
        "for t in [0.25, 0.5, 1]:\n",
        "    acc.append(threshold_accuracy(y, pred2, t))\n",
        "print('Thresholded accuracy for Multi Linear Model: ', acc)\n"
      ]
    },
    {
      "cell_type": "code",
      "execution_count": null,
      "metadata": {
        "colab": {
          "base_uri": "https://localhost:8080/"
        },
        "id": "RIc4PEiEnm0u",
        "outputId": "faed0515-162a-4c62-acf6-133ffcaf936b"
      },
      "outputs": [
        {
          "name": "stdout",
          "output_type": "stream",
          "text": [
            "Thresholded accuracy for Non-Linear Model:  [0.24663127807268273, 0.48346263781135157, 0.8248264597795019]\n"
          ]
        }
      ],
      "source": [
        "acc = []\n",
        "for t in [0.25, 0.5, 1]:\n",
        "    acc.append(threshold_accuracy(y, pred3, t))\n",
        "print('Thresholded accuracy for Non-Linear Model: ', acc)\n"
      ]
    },
    {
      "cell_type": "markdown",
      "metadata": {
        "id": "85NBm_PO8QvT"
      },
      "source": [
        "Problem 4"
      ]
    },
    {
      "cell_type": "code",
      "execution_count": null,
      "metadata": {
        "colab": {
          "base_uri": "https://localhost:8080/"
        },
        "id": "NSJOsl5ZCzkY",
        "outputId": "014c5ce2-3eaa-45b9-ce66-c065666846cc"
      },
      "outputs": [
        {
          "name": "stdout",
          "output_type": "stream",
          "text": [
            "epoch: 0 loss= 26.72757339477539\n",
            "epoch: 200 loss= 0.7241433262825012\n",
            "epoch: 400 loss= 0.7232577800750732\n",
            "epoch: 600 loss= 0.7223815321922302\n",
            "epoch: 800 loss= 0.7215147614479065\n",
            "epoch: 1000 loss= 0.7206573486328125\n",
            "epoch: 1200 loss= 0.7198090553283691\n",
            "epoch: 1400 loss= 0.7189697027206421\n",
            "epoch: 1600 loss= 0.7181395292282104\n",
            "epoch: 1800 loss= 0.7173181772232056\n",
            "0\n",
            "1\n",
            "2\n",
            "epoch: 0 loss= 0.030687104910612106\n",
            "epoch: 200 loss= 0.026051467284560204\n",
            "epoch: 400 loss= 0.023873591795563698\n",
            "epoch: 600 loss= 0.022812552750110626\n",
            "epoch: 800 loss= 0.022264111787080765\n",
            "epoch: 1000 loss= 0.021955125033855438\n",
            "epoch: 1200 loss= 0.02176143229007721\n",
            "epoch: 1400 loss= 0.021626010537147522\n",
            "epoch: 1600 loss= 0.021522192284464836\n",
            "epoch: 1800 loss= 0.02143712155520916\n",
            "epoch: 0 loss= 0.025762369856238365\n",
            "epoch: 200 loss= 0.02350292168557644\n",
            "epoch: 400 loss= 0.022460516542196274\n",
            "epoch: 600 loss= 0.021966321393847466\n",
            "epoch: 800 loss= 0.021719781681895256\n",
            "epoch: 1000 loss= 0.021585719659924507\n",
            "epoch: 1200 loss= 0.021503271535038948\n",
            "epoch: 1400 loss= 0.02144494093954563\n",
            "epoch: 1600 loss= 0.021398263052105904\n",
            "epoch: 1800 loss= 0.021357521414756775\n",
            "epoch: 0 loss= 33.195064544677734\n",
            "epoch: 200 loss= 0.719203770160675\n",
            "epoch: 400 loss= 0.7183365225791931\n",
            "epoch: 600 loss= 0.7174785733222961\n",
            "epoch: 800 loss= 0.716629683971405\n",
            "epoch: 1000 loss= 0.7157898545265198\n",
            "epoch: 1200 loss= 0.714958906173706\n",
            "epoch: 1400 loss= 0.7141368985176086\n",
            "epoch: 1600 loss= 0.7133235335350037\n",
            "epoch: 1800 loss= 0.7125188708305359\n",
            "0\n",
            "1\n",
            "2\n",
            "epoch: 0 loss= 0.026619985699653625\n",
            "epoch: 200 loss= 0.024345573037862778\n",
            "epoch: 400 loss= 0.023185640573501587\n",
            "epoch: 600 loss= 0.022546926513314247\n",
            "epoch: 800 loss= 0.022159546613693237\n",
            "epoch: 1000 loss= 0.02189941145479679\n",
            "epoch: 1200 loss= 0.02170838788151741\n",
            "epoch: 1400 loss= 0.021558357402682304\n",
            "epoch: 1600 loss= 0.021435027942061424\n",
            "epoch: 1800 loss= 0.021330595016479492\n",
            "epoch: 0 loss= 0.025173038244247437\n",
            "epoch: 200 loss= 0.023800745606422424\n",
            "epoch: 400 loss= 0.023120950907468796\n",
            "epoch: 600 loss= 0.02275921031832695\n",
            "epoch: 800 loss= 0.022546228021383286\n",
            "epoch: 1000 loss= 0.022405019029974937\n",
            "epoch: 1200 loss= 0.02230020985007286\n",
            "epoch: 1400 loss= 0.022215241566300392\n",
            "epoch: 1600 loss= 0.022142117843031883\n",
            "epoch: 1800 loss= 0.022076793015003204\n",
            "epoch: 0 loss= 33.772586822509766\n",
            "epoch: 200 loss= 0.7141692042350769\n",
            "epoch: 400 loss= 0.7133127450942993\n",
            "epoch: 600 loss= 0.7124654054641724\n",
            "epoch: 800 loss= 0.7116271257400513\n",
            "epoch: 1000 loss= 0.7107977867126465\n",
            "epoch: 1200 loss= 0.7099773287773132\n",
            "epoch: 1400 loss= 0.7091656923294067\n",
            "epoch: 1600 loss= 0.7083627581596375\n",
            "epoch: 1800 loss= 0.7075682878494263\n",
            "0\n",
            "1\n",
            "2\n",
            "epoch: 0 loss= 0.02504155784845352\n",
            "epoch: 200 loss= 0.02338913455605507\n",
            "epoch: 400 loss= 0.022624583914875984\n",
            "epoch: 600 loss= 0.022258896380662918\n",
            "epoch: 800 loss= 0.02207252010703087\n",
            "epoch: 1000 loss= 0.021966874599456787\n",
            "epoch: 1200 loss= 0.021897699683904648\n",
            "epoch: 1400 loss= 0.021845126524567604\n",
            "epoch: 1600 loss= 0.021800223737955093\n",
            "epoch: 1800 loss= 0.02175898477435112\n",
            "epoch: 0 loss= 0.023046618327498436\n",
            "epoch: 200 loss= 0.022126782685518265\n",
            "epoch: 400 loss= 0.021694857627153397\n",
            "epoch: 600 loss= 0.021482214331626892\n",
            "epoch: 800 loss= 0.02136824280023575\n",
            "epoch: 1000 loss= 0.021298784762620926\n",
            "epoch: 1200 loss= 0.021249523386359215\n",
            "epoch: 1400 loss= 0.02120952494442463\n",
            "epoch: 1600 loss= 0.021173883229494095\n",
            "epoch: 1800 loss= 0.02114039473235607\n",
            "epoch: 0 loss= 23.76885223388672\n",
            "epoch: 200 loss= 0.7126547694206238\n",
            "epoch: 400 loss= 0.7118330597877502\n",
            "epoch: 600 loss= 0.7110201716423035\n",
            "epoch: 800 loss= 0.7102160453796387\n",
            "epoch: 1000 loss= 0.7094205617904663\n",
            "epoch: 1200 loss= 0.7086336612701416\n",
            "epoch: 1400 loss= 0.7078551054000854\n",
            "epoch: 1600 loss= 0.7070848941802979\n",
            "epoch: 1800 loss= 0.7063229084014893\n",
            "0\n",
            "1\n",
            "2\n",
            "epoch: 0 loss= 0.023116637021303177\n",
            "epoch: 200 loss= 0.02263050712645054\n",
            "epoch: 400 loss= 0.022314637899398804\n",
            "epoch: 600 loss= 0.022088173776865005\n",
            "epoch: 800 loss= 0.021912740543484688\n",
            "epoch: 1000 loss= 0.021769359707832336\n",
            "epoch: 1200 loss= 0.02164805494248867\n",
            "epoch: 1400 loss= 0.021543119102716446\n",
            "epoch: 1600 loss= 0.02145097404718399\n",
            "epoch: 1800 loss= 0.021369148045778275\n",
            "epoch: 0 loss= 0.023367702960968018\n",
            "epoch: 200 loss= 0.022756250575184822\n",
            "epoch: 400 loss= 0.02245744690299034\n",
            "epoch: 600 loss= 0.022299261763691902\n",
            "epoch: 800 loss= 0.022204462438821793\n",
            "epoch: 1000 loss= 0.022138366475701332\n",
            "epoch: 1200 loss= 0.02208540216088295\n",
            "epoch: 1400 loss= 0.022038575261831284\n",
            "epoch: 1600 loss= 0.021994737908244133\n",
            "epoch: 1800 loss= 0.02195248380303383\n",
            "epoch: 0 loss= 29.028057098388672\n",
            "epoch: 200 loss= 0.7215451002120972\n",
            "epoch: 400 loss= 0.7206653356552124\n",
            "epoch: 600 loss= 0.7197950482368469\n",
            "epoch: 800 loss= 0.7189339995384216\n",
            "epoch: 1000 loss= 0.7180821895599365\n",
            "epoch: 1200 loss= 0.7172394394874573\n",
            "epoch: 1400 loss= 0.7164056897163391\n",
            "epoch: 1600 loss= 0.7155808806419373\n",
            "epoch: 1800 loss= 0.7147647738456726\n",
            "0\n",
            "1\n",
            "2\n",
            "epoch: 0 loss= 0.02308788150548935\n",
            "epoch: 200 loss= 0.022857481613755226\n",
            "epoch: 400 loss= 0.02266560308635235\n",
            "epoch: 600 loss= 0.022502649575471878\n",
            "epoch: 800 loss= 0.02236233837902546\n",
            "epoch: 1000 loss= 0.02224021404981613\n",
            "epoch: 1200 loss= 0.022132935002446175\n",
            "epoch: 1400 loss= 0.022037886083126068\n",
            "epoch: 1600 loss= 0.021952953189611435\n",
            "epoch: 1800 loss= 0.021876441314816475\n",
            "epoch: 0 loss= 0.031149614602327347\n",
            "epoch: 200 loss= 0.02567981742322445\n",
            "epoch: 400 loss= 0.02320573851466179\n",
            "epoch: 600 loss= 0.02207685075700283\n",
            "epoch: 800 loss= 0.02155212126672268\n",
            "epoch: 1000 loss= 0.021298838779330254\n",
            "epoch: 1200 loss= 0.021167626604437828\n",
            "epoch: 1400 loss= 0.021091407164931297\n",
            "epoch: 1600 loss= 0.021040070801973343\n",
            "epoch: 1800 loss= 0.021000083535909653\n",
            "epoch: 0 loss= 26.583707809448242\n",
            "epoch: 200 loss= 0.7275760769844055\n",
            "epoch: 400 loss= 0.7266952395439148\n",
            "epoch: 600 loss= 0.7258239388465881\n",
            "epoch: 800 loss= 0.7249618768692017\n",
            "epoch: 1000 loss= 0.7241090536117554\n",
            "epoch: 1200 loss= 0.7232654094696045\n",
            "epoch: 1400 loss= 0.722430944442749\n",
            "epoch: 1600 loss= 0.7216052412986755\n",
            "epoch: 1800 loss= 0.7207883596420288\n",
            "0\n",
            "1\n",
            "2\n",
            "epoch: 0 loss= 0.02626601606607437\n",
            "epoch: 200 loss= 0.024258680641651154\n",
            "epoch: 400 loss= 0.02333298698067665\n",
            "epoch: 600 loss= 0.022893259301781654\n",
            "epoch: 800 loss= 0.022672051563858986\n",
            "epoch: 1000 loss= 0.022549260407686234\n",
            "epoch: 1200 loss= 0.022470954805612564\n",
            "epoch: 1400 loss= 0.022412899881601334\n",
            "epoch: 1600 loss= 0.022364215925335884\n",
            "epoch: 1800 loss= 0.02232000231742859\n",
            "epoch: 0 loss= 0.026909692212939262\n",
            "epoch: 200 loss= 0.02426997944712639\n",
            "epoch: 400 loss= 0.02302544191479683\n",
            "epoch: 600 loss= 0.022414518520236015\n",
            "epoch: 800 loss= 0.022094087675213814\n",
            "epoch: 1000 loss= 0.021909087896347046\n",
            "epoch: 1200 loss= 0.02178906463086605\n",
            "epoch: 1400 loss= 0.02170170098543167\n",
            "epoch: 1600 loss= 0.021631911396980286\n",
            "epoch: 1800 loss= 0.021572455763816833\n",
            "epoch: 0 loss= 25.321029663085938\n",
            "epoch: 200 loss= 0.7176140546798706\n",
            "epoch: 400 loss= 0.7167497873306274\n",
            "epoch: 600 loss= 0.7158945798873901\n",
            "epoch: 800 loss= 0.7150484919548035\n",
            "epoch: 1000 loss= 0.7142114043235779\n",
            "epoch: 1200 loss= 0.7133832573890686\n",
            "epoch: 1400 loss= 0.7125638723373413\n",
            "epoch: 1600 loss= 0.7117531299591064\n",
            "epoch: 1800 loss= 0.7109510898590088\n",
            "0\n",
            "1\n",
            "2\n",
            "epoch: 0 loss= 0.023542853072285652\n",
            "epoch: 200 loss= 0.022982221096754074\n",
            "epoch: 400 loss= 0.02266625501215458\n",
            "epoch: 600 loss= 0.022467369213700294\n",
            "epoch: 800 loss= 0.022327102720737457\n",
            "epoch: 1000 loss= 0.02221822366118431\n",
            "epoch: 1200 loss= 0.02212768979370594\n",
            "epoch: 1400 loss= 0.022048968821763992\n",
            "epoch: 1600 loss= 0.02197856456041336\n",
            "epoch: 1800 loss= 0.021914435550570488\n",
            "epoch: 0 loss= 0.02227952890098095\n",
            "epoch: 200 loss= 0.022078635171055794\n",
            "epoch: 400 loss= 0.02195538394153118\n",
            "epoch: 600 loss= 0.021869264543056488\n",
            "epoch: 800 loss= 0.021801739931106567\n",
            "epoch: 1000 loss= 0.021744200959801674\n",
            "epoch: 1200 loss= 0.021692538633942604\n",
            "epoch: 1400 loss= 0.021644702181220055\n",
            "epoch: 1600 loss= 0.021599603816866875\n",
            "epoch: 1800 loss= 0.02155662700533867\n",
            "epoch: 0 loss= 33.83174514770508\n",
            "epoch: 200 loss= 0.7309049367904663\n",
            "epoch: 400 loss= 0.729987382888794\n",
            "epoch: 600 loss= 0.72907954454422\n",
            "epoch: 800 loss= 0.7281814217567444\n",
            "epoch: 1000 loss= 0.7272929549217224\n",
            "epoch: 1200 loss= 0.726413905620575\n",
            "epoch: 1400 loss= 0.7255443334579468\n",
            "epoch: 1600 loss= 0.7246840596199036\n",
            "epoch: 1800 loss= 0.7238328456878662\n",
            "0\n",
            "1\n",
            "2\n",
            "epoch: 0 loss= 0.024811476469039917\n",
            "epoch: 200 loss= 0.023774154484272003\n",
            "epoch: 400 loss= 0.023173628374934196\n",
            "epoch: 600 loss= 0.0227892454713583\n",
            "epoch: 800 loss= 0.022518571466207504\n",
            "epoch: 1000 loss= 0.022312793880701065\n",
            "epoch: 1200 loss= 0.022147664800286293\n",
            "epoch: 1400 loss= 0.022010378539562225\n",
            "epoch: 1600 loss= 0.021893564611673355\n",
            "epoch: 1800 loss= 0.021792586892843246\n",
            "epoch: 0 loss= 0.0291232168674469\n",
            "epoch: 200 loss= 0.02527739480137825\n",
            "epoch: 400 loss= 0.023470934480428696\n",
            "epoch: 600 loss= 0.022590940818190575\n",
            "epoch: 800 loss= 0.022135939449071884\n",
            "epoch: 1000 loss= 0.021879268810153008\n",
            "epoch: 1200 loss= 0.021717911586165428\n",
            "epoch: 1400 loss= 0.021604571491479874\n",
            "epoch: 1600 loss= 0.021517153829336166\n",
            "epoch: 1800 loss= 0.02144502103328705\n",
            "epoch: 0 loss= 34.553409576416016\n",
            "epoch: 200 loss= 0.7248438596725464\n",
            "epoch: 400 loss= 0.7239248156547546\n",
            "epoch: 600 loss= 0.7230153679847717\n",
            "epoch: 800 loss= 0.7221155166625977\n",
            "epoch: 1000 loss= 0.7212251424789429\n",
            "epoch: 1200 loss= 0.7203441858291626\n",
            "epoch: 1400 loss= 0.7194725275039673\n",
            "epoch: 1600 loss= 0.7186099886894226\n",
            "epoch: 1800 loss= 0.7177566289901733\n",
            "0\n",
            "1\n",
            "2\n",
            "epoch: 0 loss= 0.025690870359539986\n",
            "epoch: 200 loss= 0.023684602230787277\n",
            "epoch: 400 loss= 0.022749517112970352\n",
            "epoch: 600 loss= 0.022297894582152367\n",
            "epoch: 800 loss= 0.02206546813249588\n",
            "epoch: 1000 loss= 0.021933257579803467\n",
            "epoch: 1200 loss= 0.02184756100177765\n",
            "epoch: 1400 loss= 0.02178405411541462\n",
            "epoch: 1600 loss= 0.02173161506652832\n",
            "epoch: 1800 loss= 0.021685097366571426\n",
            "epoch: 0 loss= 0.023038987070322037\n",
            "epoch: 200 loss= 0.02239413373172283\n",
            "epoch: 400 loss= 0.02208404429256916\n",
            "epoch: 600 loss= 0.021924473345279694\n",
            "epoch: 800 loss= 0.021832682192325592\n",
            "epoch: 1000 loss= 0.021771539002656937\n",
            "epoch: 1200 loss= 0.021724356338381767\n",
            "epoch: 1400 loss= 0.021683644503355026\n",
            "epoch: 1600 loss= 0.021646037697792053\n",
            "epoch: 1800 loss= 0.02161002717912197\n",
            "epoch: 0 loss= 31.581867218017578\n",
            "epoch: 200 loss= 0.7116010189056396\n",
            "epoch: 400 loss= 0.7107229828834534\n",
            "epoch: 600 loss= 0.709854006767273\n",
            "epoch: 800 loss= 0.7089943289756775\n",
            "epoch: 1000 loss= 0.7081438302993774\n",
            "epoch: 1200 loss= 0.7073022127151489\n",
            "epoch: 1400 loss= 0.7064694166183472\n",
            "epoch: 1600 loss= 0.7056455016136169\n",
            "epoch: 1800 loss= 0.7048302292823792\n",
            "0\n",
            "1\n",
            "2\n",
            "epoch: 0 loss= 0.023357173427939415\n",
            "epoch: 200 loss= 0.022961964830756187\n",
            "epoch: 400 loss= 0.022634059190750122\n",
            "epoch: 600 loss= 0.022359227761626244\n",
            "epoch: 800 loss= 0.022127186879515648\n",
            "epoch: 1000 loss= 0.02193009853363037\n",
            "epoch: 1200 loss= 0.021761765703558922\n",
            "epoch: 1400 loss= 0.021617192775011063\n",
            "epoch: 1600 loss= 0.02149229869246483\n",
            "epoch: 1800 loss= 0.02138374373316765\n",
            "epoch: 0 loss= 0.025797763839364052\n",
            "epoch: 200 loss= 0.02338956482708454\n",
            "epoch: 400 loss= 0.022254185751080513\n",
            "epoch: 600 loss= 0.0216967910528183\n",
            "epoch: 800 loss= 0.021404318511486053\n",
            "epoch: 1000 loss= 0.021235311403870583\n",
            "epoch: 1200 loss= 0.021125510334968567\n",
            "epoch: 1400 loss= 0.021045444533228874\n",
            "epoch: 1600 loss= 0.020981375128030777\n",
            "epoch: 1800 loss= 0.020926689729094505\n"
          ]
        }
      ],
      "source": [
        "k = 10\n",
        "\n",
        "acc_lin = [0,0,0]\n",
        "acc_mult = [0,0,0]\n",
        "acc_non = [0,0,0]\n",
        "\n",
        "for i in range(k):\n",
        "  shuffled = data_pd.sample(frac = 1)\n",
        "  test = shuffled[:980]\n",
        "  train = shuffled[980:]\n",
        "\n",
        "  features = [\"pH\", \"free sulfur dioxide\", \"alcohol\"]\n",
        "\n",
        "#training data\n",
        "  x_train_lin = torch.Tensor(train[\"alcohol\"].values)\n",
        "  x_train = torch.Tensor(train[features].values)\n",
        "  y_train = torch.Tensor(train[\"quality\"].values)\n",
        "\n",
        "  x_mean = x_train.mean(dim=0)\n",
        "  x_norm = (x_train-x_mean)/x_mean\n",
        "\n",
        "  y_mean = y_train.mean(dim=0)\n",
        "  y_norm = (y_train-y_mean)/y_mean\n",
        "\n",
        "#testing data\n",
        "  x_test_lin = torch.Tensor(test[\"alcohol\"].values)\n",
        "  x_test = torch.Tensor(test[features].values)\n",
        "  y_test = torch.Tensor(test[\"quality\"].values)\n",
        "\n",
        "  x_test_mean = x_test.mean(dim=0)\n",
        "  x_test_norm = (x_test - x_test_mean)/x_test_mean\n",
        "\n",
        "#linear model\n",
        "\n",
        "  params_lin = gradDec(linearModel,2,x_train_lin,y_train,0.001)\n",
        "  pred1cv = linearModel(params_lin, x_test_lin)\n",
        "\n",
        "  for idx, t in enumerate([0.25, 0.5, 1]):\n",
        "    print(idx)\n",
        "    acc_lin[idx] += threshold_accuracy(y_test, pred1cv, t)\n",
        "\n",
        "#multi-linear model\n",
        "\n",
        "  params_multi = gradDec(multiLinearModel,4,x_norm,y_norm,0.001)\n",
        "  pred2cv = multiLinearModel(params_multi, x_test_norm)\n",
        "  unnormalized_y_2 = pred2cv * y_mean + y_mean\n",
        "\n",
        "  for idx, t in enumerate([0.25, 0.5, 1]):\n",
        "    acc_mult[idx] += threshold_accuracy(y_test, unnormalized_y_2, t)\n",
        "\n",
        "#non-linear model\n",
        "\n",
        "  params_nonlin = gradDec(nonlinearModel,5,x_norm,y_norm,0.001)\n",
        "  pred3cv = nonlinearModel(params_nonlin, x_test_norm)\n",
        "  unnormalized_y_3 = pred3cv * y_mean + y_mean\n",
        "\n",
        "  for idx, t in enumerate([0.25, 0.5, 1]):\n",
        "    acc_non[idx] += threshold_accuracy(y_test, unnormalized_y_3, t)\n",
        "\n",
        "for idx, elem in enumerate(acc_lin):\n",
        "  acc_lin[idx] /= 10;\n",
        "\n",
        "for idx, elem in enumerate(acc_mult):\n",
        "  acc_mult[idx] /= 10;\n",
        "\n",
        "for idx, elem in enumerate(acc_non):\n",
        "  acc_non[idx] /= 10;\n",
        "\n"
      ]
    },
    {
      "cell_type": "code",
      "execution_count": null,
      "metadata": {
        "colab": {
          "base_uri": "https://localhost:8080/"
        },
        "id": "2QQKZV4HZZVZ",
        "outputId": "e257e67b-d990-4c55-c780-546828b23e25"
      },
      "outputs": [
        {
          "name": "stdout",
          "output_type": "stream",
          "text": [
            "CV Threshold Accuracy for Linear model is:  [0.2722448979591837, 0.476938775510204, 0.8045918367346939]\n",
            "CV Threshold Accuracy for MultiLinear model is:  [0.42326530612244895, 0.4493877551020408, 0.7537755102040815]\n",
            "CV Threshold Accuracy for Non-Linear model is:  [0.44102040816326527, 0.4493877551020408, 0.7695918367346939]\n"
          ]
        }
      ],
      "source": [
        "print(\"CV Threshold Accuracy for Linear model is: \", acc_lin)\n",
        "print(\"CV Threshold Accuracy for MultiLinear model is: \",acc_mult)\n",
        "print(\"CV Threshold Accuracy for Non-Linear model is: \",acc_non)\n"
      ]
    }
  ],
  "metadata": {
    "colab": {
      "provenance": []
    },
    "kernelspec": {
      "display_name": "Python 3",
      "name": "python3"
    },
    "language_info": {
      "name": "python"
    }
  },
  "nbformat": 4,
  "nbformat_minor": 0
}
