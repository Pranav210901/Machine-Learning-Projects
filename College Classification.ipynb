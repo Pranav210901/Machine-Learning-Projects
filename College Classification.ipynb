{
  "cells": [
    {
      "cell_type": "code",
      "execution_count": null,
      "metadata": {
        "colab": {
          "base_uri": "https://localhost:8080/"
        },
        "id": "O5LR6giQ5VdB",
        "outputId": "ea6765a7-cd6a-496d-97b3-725d7bf70d6a"
      },
      "outputs": [
        {
          "name": "stdout",
          "output_type": "stream",
          "text": [
            "--2023-02-15 01:36:52--  http://motioncore-umh.cs.umn.edu/4980/college.csv\n",
            "Resolving motioncore-umh.cs.umn.edu (motioncore-umh.cs.umn.edu)... 128.101.106.27\n",
            "Connecting to motioncore-umh.cs.umn.edu (motioncore-umh.cs.umn.edu)|128.101.106.27|:80... connected.\n",
            "HTTP request sent, awaiting response... 200 OK\n",
            "Length: 78854 (77K) [text/csv]\n",
            "Saving to: ‘college.csv’\n",
            "\n",
            "\rcollege.csv           0%[                    ]       0  --.-KB/s               \rcollege.csv         100%[===================>]  77.01K  --.-KB/s    in 0.04s   \n",
            "\n",
            "2023-02-15 01:36:52 (1.96 MB/s) - ‘college.csv’ saved [78854/78854]\n",
            "\n"
          ]
        }
      ],
      "source": [
        "!wget \"http://motioncore-umh.cs.umn.edu/4980/college.csv\""
      ]
    },
    {
      "attachments": {},
      "cell_type": "markdown",
      "metadata": {},
      "source": [
        "Introduction: \n",
        "This notebook analyses a college database, taking into account several different features to check for accuracy of model with classifying colleges as selective or non selective based on their acceptance of applications from around the united states. This notebook uses a KNN classifier. \n"
      ]
    },
    {
      "cell_type": "code",
      "execution_count": null,
      "metadata": {
        "id": "holJgFuqSU-1"
      },
      "outputs": [],
      "source": [
        "import pandas as pd\n",
        "import numpy as np\n",
        "import matplotlib.pyplot as plt\n",
        "from matplotlib.colors import ListedColormap\n",
        "df = pd.read_csv(\"college.csv\")"
      ]
    },
    {
      "cell_type": "code",
      "execution_count": null,
      "metadata": {
        "colab": {
          "base_uri": "https://localhost:8080/",
          "height": 748
        },
        "id": "_AfDhBkqTFcc",
        "outputId": "8d0efafe-70be-4005-80a4-d21f5e416c86"
      },
      "outputs": [
        {
          "data": {
            "text/html": [
              "\n",
              "  <div id=\"df-9cbf3bb4-1927-42ea-9521-fc577730c8bf\">\n",
              "    <div class=\"colab-df-container\">\n",
              "      <div>\n",
              "<style scoped>\n",
              "    .dataframe tbody tr th:only-of-type {\n",
              "        vertical-align: middle;\n",
              "    }\n",
              "\n",
              "    .dataframe tbody tr th {\n",
              "        vertical-align: top;\n",
              "    }\n",
              "\n",
              "    .dataframe thead th {\n",
              "        text-align: right;\n",
              "    }\n",
              "</style>\n",
              "<table border=\"1\" class=\"dataframe\">\n",
              "  <thead>\n",
              "    <tr style=\"text-align: right;\">\n",
              "      <th></th>\n",
              "      <th>School</th>\n",
              "      <th>Private</th>\n",
              "      <th>Apps</th>\n",
              "      <th>Accept</th>\n",
              "      <th>Enroll</th>\n",
              "      <th>Top10perc</th>\n",
              "      <th>Top25perc</th>\n",
              "      <th>F.Undergrad</th>\n",
              "      <th>P.Undergrad</th>\n",
              "      <th>Outstate</th>\n",
              "      <th>Room.Board</th>\n",
              "      <th>Books</th>\n",
              "      <th>Personal</th>\n",
              "      <th>PhD</th>\n",
              "      <th>Terminal</th>\n",
              "      <th>S.F.Ratio</th>\n",
              "      <th>perc.alumni</th>\n",
              "      <th>Expend</th>\n",
              "      <th>Grad.Rate</th>\n",
              "    </tr>\n",
              "  </thead>\n",
              "  <tbody>\n",
              "    <tr>\n",
              "      <th>0</th>\n",
              "      <td>Abilene Christian University</td>\n",
              "      <td>Yes</td>\n",
              "      <td>1660</td>\n",
              "      <td>1232</td>\n",
              "      <td>721</td>\n",
              "      <td>23</td>\n",
              "      <td>52</td>\n",
              "      <td>2885</td>\n",
              "      <td>537</td>\n",
              "      <td>7440</td>\n",
              "      <td>3300</td>\n",
              "      <td>450</td>\n",
              "      <td>2200</td>\n",
              "      <td>70</td>\n",
              "      <td>78</td>\n",
              "      <td>18.1</td>\n",
              "      <td>12</td>\n",
              "      <td>7041</td>\n",
              "      <td>60</td>\n",
              "    </tr>\n",
              "    <tr>\n",
              "      <th>1</th>\n",
              "      <td>Adelphi University</td>\n",
              "      <td>Yes</td>\n",
              "      <td>2186</td>\n",
              "      <td>1924</td>\n",
              "      <td>512</td>\n",
              "      <td>16</td>\n",
              "      <td>29</td>\n",
              "      <td>2683</td>\n",
              "      <td>1227</td>\n",
              "      <td>12280</td>\n",
              "      <td>6450</td>\n",
              "      <td>750</td>\n",
              "      <td>1500</td>\n",
              "      <td>29</td>\n",
              "      <td>30</td>\n",
              "      <td>12.2</td>\n",
              "      <td>16</td>\n",
              "      <td>10527</td>\n",
              "      <td>56</td>\n",
              "    </tr>\n",
              "    <tr>\n",
              "      <th>2</th>\n",
              "      <td>Adrian College</td>\n",
              "      <td>Yes</td>\n",
              "      <td>1428</td>\n",
              "      <td>1097</td>\n",
              "      <td>336</td>\n",
              "      <td>22</td>\n",
              "      <td>50</td>\n",
              "      <td>1036</td>\n",
              "      <td>99</td>\n",
              "      <td>11250</td>\n",
              "      <td>3750</td>\n",
              "      <td>400</td>\n",
              "      <td>1165</td>\n",
              "      <td>53</td>\n",
              "      <td>66</td>\n",
              "      <td>12.9</td>\n",
              "      <td>30</td>\n",
              "      <td>8735</td>\n",
              "      <td>54</td>\n",
              "    </tr>\n",
              "    <tr>\n",
              "      <th>3</th>\n",
              "      <td>Agnes Scott College</td>\n",
              "      <td>Yes</td>\n",
              "      <td>417</td>\n",
              "      <td>349</td>\n",
              "      <td>137</td>\n",
              "      <td>60</td>\n",
              "      <td>89</td>\n",
              "      <td>510</td>\n",
              "      <td>63</td>\n",
              "      <td>12960</td>\n",
              "      <td>5450</td>\n",
              "      <td>450</td>\n",
              "      <td>875</td>\n",
              "      <td>92</td>\n",
              "      <td>97</td>\n",
              "      <td>7.7</td>\n",
              "      <td>37</td>\n",
              "      <td>19016</td>\n",
              "      <td>59</td>\n",
              "    </tr>\n",
              "    <tr>\n",
              "      <th>4</th>\n",
              "      <td>Alaska Pacific University</td>\n",
              "      <td>Yes</td>\n",
              "      <td>193</td>\n",
              "      <td>146</td>\n",
              "      <td>55</td>\n",
              "      <td>16</td>\n",
              "      <td>44</td>\n",
              "      <td>249</td>\n",
              "      <td>869</td>\n",
              "      <td>7560</td>\n",
              "      <td>4120</td>\n",
              "      <td>800</td>\n",
              "      <td>1500</td>\n",
              "      <td>76</td>\n",
              "      <td>72</td>\n",
              "      <td>11.9</td>\n",
              "      <td>2</td>\n",
              "      <td>10922</td>\n",
              "      <td>15</td>\n",
              "    </tr>\n",
              "    <tr>\n",
              "      <th>...</th>\n",
              "      <td>...</td>\n",
              "      <td>...</td>\n",
              "      <td>...</td>\n",
              "      <td>...</td>\n",
              "      <td>...</td>\n",
              "      <td>...</td>\n",
              "      <td>...</td>\n",
              "      <td>...</td>\n",
              "      <td>...</td>\n",
              "      <td>...</td>\n",
              "      <td>...</td>\n",
              "      <td>...</td>\n",
              "      <td>...</td>\n",
              "      <td>...</td>\n",
              "      <td>...</td>\n",
              "      <td>...</td>\n",
              "      <td>...</td>\n",
              "      <td>...</td>\n",
              "      <td>...</td>\n",
              "    </tr>\n",
              "    <tr>\n",
              "      <th>772</th>\n",
              "      <td>Worcester State College</td>\n",
              "      <td>No</td>\n",
              "      <td>2197</td>\n",
              "      <td>1515</td>\n",
              "      <td>543</td>\n",
              "      <td>4</td>\n",
              "      <td>26</td>\n",
              "      <td>3089</td>\n",
              "      <td>2029</td>\n",
              "      <td>6797</td>\n",
              "      <td>3900</td>\n",
              "      <td>500</td>\n",
              "      <td>1200</td>\n",
              "      <td>60</td>\n",
              "      <td>60</td>\n",
              "      <td>21.0</td>\n",
              "      <td>14</td>\n",
              "      <td>4469</td>\n",
              "      <td>40</td>\n",
              "    </tr>\n",
              "    <tr>\n",
              "      <th>773</th>\n",
              "      <td>Xavier University</td>\n",
              "      <td>Yes</td>\n",
              "      <td>1959</td>\n",
              "      <td>1805</td>\n",
              "      <td>695</td>\n",
              "      <td>24</td>\n",
              "      <td>47</td>\n",
              "      <td>2849</td>\n",
              "      <td>1107</td>\n",
              "      <td>11520</td>\n",
              "      <td>4960</td>\n",
              "      <td>600</td>\n",
              "      <td>1250</td>\n",
              "      <td>73</td>\n",
              "      <td>75</td>\n",
              "      <td>13.3</td>\n",
              "      <td>31</td>\n",
              "      <td>9189</td>\n",
              "      <td>83</td>\n",
              "    </tr>\n",
              "    <tr>\n",
              "      <th>774</th>\n",
              "      <td>Xavier University of Louisiana</td>\n",
              "      <td>Yes</td>\n",
              "      <td>2097</td>\n",
              "      <td>1915</td>\n",
              "      <td>695</td>\n",
              "      <td>34</td>\n",
              "      <td>61</td>\n",
              "      <td>2793</td>\n",
              "      <td>166</td>\n",
              "      <td>6900</td>\n",
              "      <td>4200</td>\n",
              "      <td>617</td>\n",
              "      <td>781</td>\n",
              "      <td>67</td>\n",
              "      <td>75</td>\n",
              "      <td>14.4</td>\n",
              "      <td>20</td>\n",
              "      <td>8323</td>\n",
              "      <td>49</td>\n",
              "    </tr>\n",
              "    <tr>\n",
              "      <th>775</th>\n",
              "      <td>Yale University</td>\n",
              "      <td>Yes</td>\n",
              "      <td>10705</td>\n",
              "      <td>2453</td>\n",
              "      <td>1317</td>\n",
              "      <td>95</td>\n",
              "      <td>99</td>\n",
              "      <td>5217</td>\n",
              "      <td>83</td>\n",
              "      <td>19840</td>\n",
              "      <td>6510</td>\n",
              "      <td>630</td>\n",
              "      <td>2115</td>\n",
              "      <td>96</td>\n",
              "      <td>96</td>\n",
              "      <td>5.8</td>\n",
              "      <td>49</td>\n",
              "      <td>40386</td>\n",
              "      <td>99</td>\n",
              "    </tr>\n",
              "    <tr>\n",
              "      <th>776</th>\n",
              "      <td>York College of Pennsylvania</td>\n",
              "      <td>Yes</td>\n",
              "      <td>2989</td>\n",
              "      <td>1855</td>\n",
              "      <td>691</td>\n",
              "      <td>28</td>\n",
              "      <td>63</td>\n",
              "      <td>2988</td>\n",
              "      <td>1726</td>\n",
              "      <td>4990</td>\n",
              "      <td>3560</td>\n",
              "      <td>500</td>\n",
              "      <td>1250</td>\n",
              "      <td>75</td>\n",
              "      <td>75</td>\n",
              "      <td>18.1</td>\n",
              "      <td>28</td>\n",
              "      <td>4509</td>\n",
              "      <td>99</td>\n",
              "    </tr>\n",
              "  </tbody>\n",
              "</table>\n",
              "<p>777 rows × 19 columns</p>\n",
              "</div>\n",
              "      <button class=\"colab-df-convert\" onclick=\"convertToInteractive('df-9cbf3bb4-1927-42ea-9521-fc577730c8bf')\"\n",
              "              title=\"Convert this dataframe to an interactive table.\"\n",
              "              style=\"display:none;\">\n",
              "        \n",
              "  <svg xmlns=\"http://www.w3.org/2000/svg\" height=\"24px\"viewBox=\"0 0 24 24\"\n",
              "       width=\"24px\">\n",
              "    <path d=\"M0 0h24v24H0V0z\" fill=\"none\"/>\n",
              "    <path d=\"M18.56 5.44l.94 2.06.94-2.06 2.06-.94-2.06-.94-.94-2.06-.94 2.06-2.06.94zm-11 1L8.5 8.5l.94-2.06 2.06-.94-2.06-.94L8.5 2.5l-.94 2.06-2.06.94zm10 10l.94 2.06.94-2.06 2.06-.94-2.06-.94-.94-2.06-.94 2.06-2.06.94z\"/><path d=\"M17.41 7.96l-1.37-1.37c-.4-.4-.92-.59-1.43-.59-.52 0-1.04.2-1.43.59L10.3 9.45l-7.72 7.72c-.78.78-.78 2.05 0 2.83L4 21.41c.39.39.9.59 1.41.59.51 0 1.02-.2 1.41-.59l7.78-7.78 2.81-2.81c.8-.78.8-2.07 0-2.86zM5.41 20L4 18.59l7.72-7.72 1.47 1.35L5.41 20z\"/>\n",
              "  </svg>\n",
              "      </button>\n",
              "      \n",
              "  <style>\n",
              "    .colab-df-container {\n",
              "      display:flex;\n",
              "      flex-wrap:wrap;\n",
              "      gap: 12px;\n",
              "    }\n",
              "\n",
              "    .colab-df-convert {\n",
              "      background-color: #E8F0FE;\n",
              "      border: none;\n",
              "      border-radius: 50%;\n",
              "      cursor: pointer;\n",
              "      display: none;\n",
              "      fill: #1967D2;\n",
              "      height: 32px;\n",
              "      padding: 0 0 0 0;\n",
              "      width: 32px;\n",
              "    }\n",
              "\n",
              "    .colab-df-convert:hover {\n",
              "      background-color: #E2EBFA;\n",
              "      box-shadow: 0px 1px 2px rgba(60, 64, 67, 0.3), 0px 1px 3px 1px rgba(60, 64, 67, 0.15);\n",
              "      fill: #174EA6;\n",
              "    }\n",
              "\n",
              "    [theme=dark] .colab-df-convert {\n",
              "      background-color: #3B4455;\n",
              "      fill: #D2E3FC;\n",
              "    }\n",
              "\n",
              "    [theme=dark] .colab-df-convert:hover {\n",
              "      background-color: #434B5C;\n",
              "      box-shadow: 0px 1px 3px 1px rgba(0, 0, 0, 0.15);\n",
              "      filter: drop-shadow(0px 1px 2px rgba(0, 0, 0, 0.3));\n",
              "      fill: #FFFFFF;\n",
              "    }\n",
              "  </style>\n",
              "\n",
              "      <script>\n",
              "        const buttonEl =\n",
              "          document.querySelector('#df-9cbf3bb4-1927-42ea-9521-fc577730c8bf button.colab-df-convert');\n",
              "        buttonEl.style.display =\n",
              "          google.colab.kernel.accessAllowed ? 'block' : 'none';\n",
              "\n",
              "        async function convertToInteractive(key) {\n",
              "          const element = document.querySelector('#df-9cbf3bb4-1927-42ea-9521-fc577730c8bf');\n",
              "          const dataTable =\n",
              "            await google.colab.kernel.invokeFunction('convertToInteractive',\n",
              "                                                     [key], {});\n",
              "          if (!dataTable) return;\n",
              "\n",
              "          const docLinkHtml = 'Like what you see? Visit the ' +\n",
              "            '<a target=\"_blank\" href=https://colab.research.google.com/notebooks/data_table.ipynb>data table notebook</a>'\n",
              "            + ' to learn more about interactive tables.';\n",
              "          element.innerHTML = '';\n",
              "          dataTable['output_type'] = 'display_data';\n",
              "          await google.colab.output.renderOutput(dataTable, element);\n",
              "          const docLink = document.createElement('div');\n",
              "          docLink.innerHTML = docLinkHtml;\n",
              "          element.appendChild(docLink);\n",
              "        }\n",
              "      </script>\n",
              "    </div>\n",
              "  </div>\n",
              "  "
            ],
            "text/plain": [
              "                             School Private   Apps  Accept  Enroll  Top10perc  \\\n",
              "0      Abilene Christian University     Yes   1660    1232     721         23   \n",
              "1                Adelphi University     Yes   2186    1924     512         16   \n",
              "2                    Adrian College     Yes   1428    1097     336         22   \n",
              "3               Agnes Scott College     Yes    417     349     137         60   \n",
              "4         Alaska Pacific University     Yes    193     146      55         16   \n",
              "..                              ...     ...    ...     ...     ...        ...   \n",
              "772         Worcester State College      No   2197    1515     543          4   \n",
              "773               Xavier University     Yes   1959    1805     695         24   \n",
              "774  Xavier University of Louisiana     Yes   2097    1915     695         34   \n",
              "775                 Yale University     Yes  10705    2453    1317         95   \n",
              "776    York College of Pennsylvania     Yes   2989    1855     691         28   \n",
              "\n",
              "     Top25perc  F.Undergrad  P.Undergrad  Outstate  Room.Board  Books  \\\n",
              "0           52         2885          537      7440        3300    450   \n",
              "1           29         2683         1227     12280        6450    750   \n",
              "2           50         1036           99     11250        3750    400   \n",
              "3           89          510           63     12960        5450    450   \n",
              "4           44          249          869      7560        4120    800   \n",
              "..         ...          ...          ...       ...         ...    ...   \n",
              "772         26         3089         2029      6797        3900    500   \n",
              "773         47         2849         1107     11520        4960    600   \n",
              "774         61         2793          166      6900        4200    617   \n",
              "775         99         5217           83     19840        6510    630   \n",
              "776         63         2988         1726      4990        3560    500   \n",
              "\n",
              "     Personal  PhD  Terminal  S.F.Ratio  perc.alumni  Expend  Grad.Rate  \n",
              "0        2200   70        78       18.1           12    7041         60  \n",
              "1        1500   29        30       12.2           16   10527         56  \n",
              "2        1165   53        66       12.9           30    8735         54  \n",
              "3         875   92        97        7.7           37   19016         59  \n",
              "4        1500   76        72       11.9            2   10922         15  \n",
              "..        ...  ...       ...        ...          ...     ...        ...  \n",
              "772      1200   60        60       21.0           14    4469         40  \n",
              "773      1250   73        75       13.3           31    9189         83  \n",
              "774       781   67        75       14.4           20    8323         49  \n",
              "775      2115   96        96        5.8           49   40386         99  \n",
              "776      1250   75        75       18.1           28    4509         99  \n",
              "\n",
              "[777 rows x 19 columns]"
            ]
          },
          "execution_count": 3,
          "metadata": {},
          "output_type": "execute_result"
        }
      ],
      "source": [
        "df"
      ]
    },
    {
      "cell_type": "code",
      "execution_count": null,
      "metadata": {
        "colab": {
          "base_uri": "https://localhost:8080/"
        },
        "id": "7wj5gSH2TZV0",
        "outputId": "90f6e961-911c-4fc6-a8ca-2873324042d0"
      },
      "outputs": [
        {
          "data": {
            "text/plain": [
              "0      23\n",
              "1      16\n",
              "2      22\n",
              "3      60\n",
              "4      16\n",
              "       ..\n",
              "772     4\n",
              "773    24\n",
              "774    34\n",
              "775    95\n",
              "776    28\n",
              "Name: Top10perc, Length: 777, dtype: int64"
            ]
          },
          "execution_count": 4,
          "metadata": {},
          "output_type": "execute_result"
        }
      ],
      "source": [
        "df[\"Top10perc\"]"
      ]
    },
    {
      "cell_type": "code",
      "execution_count": null,
      "metadata": {
        "id": "Tu02Y9uOUbZF"
      },
      "outputs": [],
      "source": [
        "selective = []\n",
        "for i in range(777):\n",
        "  if (df[\"Top10perc\"][i] > 50):\n",
        "    selective.append(1)\n",
        "  else:\n",
        "    selective.append(0)\n",
        "df[\"Selective\"] = selective"
      ]
    },
    {
      "cell_type": "code",
      "execution_count": null,
      "metadata": {
        "colab": {
          "base_uri": "https://localhost:8080/",
          "height": 748
        },
        "id": "jnOScuFeEziM",
        "outputId": "500a44fc-e555-4785-f074-3df0e2ad167e"
      },
      "outputs": [
        {
          "data": {
            "text/html": [
              "\n",
              "  <div id=\"df-ecf8922b-fcd8-451c-b61c-3c31aa33fd18\">\n",
              "    <div class=\"colab-df-container\">\n",
              "      <div>\n",
              "<style scoped>\n",
              "    .dataframe tbody tr th:only-of-type {\n",
              "        vertical-align: middle;\n",
              "    }\n",
              "\n",
              "    .dataframe tbody tr th {\n",
              "        vertical-align: top;\n",
              "    }\n",
              "\n",
              "    .dataframe thead th {\n",
              "        text-align: right;\n",
              "    }\n",
              "</style>\n",
              "<table border=\"1\" class=\"dataframe\">\n",
              "  <thead>\n",
              "    <tr style=\"text-align: right;\">\n",
              "      <th></th>\n",
              "      <th>School</th>\n",
              "      <th>Private</th>\n",
              "      <th>Apps</th>\n",
              "      <th>Accept</th>\n",
              "      <th>Enroll</th>\n",
              "      <th>Top10perc</th>\n",
              "      <th>Top25perc</th>\n",
              "      <th>F.Undergrad</th>\n",
              "      <th>P.Undergrad</th>\n",
              "      <th>Outstate</th>\n",
              "      <th>Room.Board</th>\n",
              "      <th>Books</th>\n",
              "      <th>Personal</th>\n",
              "      <th>PhD</th>\n",
              "      <th>Terminal</th>\n",
              "      <th>S.F.Ratio</th>\n",
              "      <th>perc.alumni</th>\n",
              "      <th>Expend</th>\n",
              "      <th>Grad.Rate</th>\n",
              "      <th>Selective</th>\n",
              "    </tr>\n",
              "  </thead>\n",
              "  <tbody>\n",
              "    <tr>\n",
              "      <th>0</th>\n",
              "      <td>Abilene Christian University</td>\n",
              "      <td>Yes</td>\n",
              "      <td>1660</td>\n",
              "      <td>1232</td>\n",
              "      <td>721</td>\n",
              "      <td>23</td>\n",
              "      <td>52</td>\n",
              "      <td>2885</td>\n",
              "      <td>537</td>\n",
              "      <td>7440</td>\n",
              "      <td>3300</td>\n",
              "      <td>450</td>\n",
              "      <td>2200</td>\n",
              "      <td>70</td>\n",
              "      <td>78</td>\n",
              "      <td>18.1</td>\n",
              "      <td>12</td>\n",
              "      <td>7041</td>\n",
              "      <td>60</td>\n",
              "      <td>0</td>\n",
              "    </tr>\n",
              "    <tr>\n",
              "      <th>1</th>\n",
              "      <td>Adelphi University</td>\n",
              "      <td>Yes</td>\n",
              "      <td>2186</td>\n",
              "      <td>1924</td>\n",
              "      <td>512</td>\n",
              "      <td>16</td>\n",
              "      <td>29</td>\n",
              "      <td>2683</td>\n",
              "      <td>1227</td>\n",
              "      <td>12280</td>\n",
              "      <td>6450</td>\n",
              "      <td>750</td>\n",
              "      <td>1500</td>\n",
              "      <td>29</td>\n",
              "      <td>30</td>\n",
              "      <td>12.2</td>\n",
              "      <td>16</td>\n",
              "      <td>10527</td>\n",
              "      <td>56</td>\n",
              "      <td>0</td>\n",
              "    </tr>\n",
              "    <tr>\n",
              "      <th>2</th>\n",
              "      <td>Adrian College</td>\n",
              "      <td>Yes</td>\n",
              "      <td>1428</td>\n",
              "      <td>1097</td>\n",
              "      <td>336</td>\n",
              "      <td>22</td>\n",
              "      <td>50</td>\n",
              "      <td>1036</td>\n",
              "      <td>99</td>\n",
              "      <td>11250</td>\n",
              "      <td>3750</td>\n",
              "      <td>400</td>\n",
              "      <td>1165</td>\n",
              "      <td>53</td>\n",
              "      <td>66</td>\n",
              "      <td>12.9</td>\n",
              "      <td>30</td>\n",
              "      <td>8735</td>\n",
              "      <td>54</td>\n",
              "      <td>0</td>\n",
              "    </tr>\n",
              "    <tr>\n",
              "      <th>3</th>\n",
              "      <td>Agnes Scott College</td>\n",
              "      <td>Yes</td>\n",
              "      <td>417</td>\n",
              "      <td>349</td>\n",
              "      <td>137</td>\n",
              "      <td>60</td>\n",
              "      <td>89</td>\n",
              "      <td>510</td>\n",
              "      <td>63</td>\n",
              "      <td>12960</td>\n",
              "      <td>5450</td>\n",
              "      <td>450</td>\n",
              "      <td>875</td>\n",
              "      <td>92</td>\n",
              "      <td>97</td>\n",
              "      <td>7.7</td>\n",
              "      <td>37</td>\n",
              "      <td>19016</td>\n",
              "      <td>59</td>\n",
              "      <td>1</td>\n",
              "    </tr>\n",
              "    <tr>\n",
              "      <th>4</th>\n",
              "      <td>Alaska Pacific University</td>\n",
              "      <td>Yes</td>\n",
              "      <td>193</td>\n",
              "      <td>146</td>\n",
              "      <td>55</td>\n",
              "      <td>16</td>\n",
              "      <td>44</td>\n",
              "      <td>249</td>\n",
              "      <td>869</td>\n",
              "      <td>7560</td>\n",
              "      <td>4120</td>\n",
              "      <td>800</td>\n",
              "      <td>1500</td>\n",
              "      <td>76</td>\n",
              "      <td>72</td>\n",
              "      <td>11.9</td>\n",
              "      <td>2</td>\n",
              "      <td>10922</td>\n",
              "      <td>15</td>\n",
              "      <td>0</td>\n",
              "    </tr>\n",
              "    <tr>\n",
              "      <th>...</th>\n",
              "      <td>...</td>\n",
              "      <td>...</td>\n",
              "      <td>...</td>\n",
              "      <td>...</td>\n",
              "      <td>...</td>\n",
              "      <td>...</td>\n",
              "      <td>...</td>\n",
              "      <td>...</td>\n",
              "      <td>...</td>\n",
              "      <td>...</td>\n",
              "      <td>...</td>\n",
              "      <td>...</td>\n",
              "      <td>...</td>\n",
              "      <td>...</td>\n",
              "      <td>...</td>\n",
              "      <td>...</td>\n",
              "      <td>...</td>\n",
              "      <td>...</td>\n",
              "      <td>...</td>\n",
              "      <td>...</td>\n",
              "    </tr>\n",
              "    <tr>\n",
              "      <th>772</th>\n",
              "      <td>Worcester State College</td>\n",
              "      <td>No</td>\n",
              "      <td>2197</td>\n",
              "      <td>1515</td>\n",
              "      <td>543</td>\n",
              "      <td>4</td>\n",
              "      <td>26</td>\n",
              "      <td>3089</td>\n",
              "      <td>2029</td>\n",
              "      <td>6797</td>\n",
              "      <td>3900</td>\n",
              "      <td>500</td>\n",
              "      <td>1200</td>\n",
              "      <td>60</td>\n",
              "      <td>60</td>\n",
              "      <td>21.0</td>\n",
              "      <td>14</td>\n",
              "      <td>4469</td>\n",
              "      <td>40</td>\n",
              "      <td>0</td>\n",
              "    </tr>\n",
              "    <tr>\n",
              "      <th>773</th>\n",
              "      <td>Xavier University</td>\n",
              "      <td>Yes</td>\n",
              "      <td>1959</td>\n",
              "      <td>1805</td>\n",
              "      <td>695</td>\n",
              "      <td>24</td>\n",
              "      <td>47</td>\n",
              "      <td>2849</td>\n",
              "      <td>1107</td>\n",
              "      <td>11520</td>\n",
              "      <td>4960</td>\n",
              "      <td>600</td>\n",
              "      <td>1250</td>\n",
              "      <td>73</td>\n",
              "      <td>75</td>\n",
              "      <td>13.3</td>\n",
              "      <td>31</td>\n",
              "      <td>9189</td>\n",
              "      <td>83</td>\n",
              "      <td>0</td>\n",
              "    </tr>\n",
              "    <tr>\n",
              "      <th>774</th>\n",
              "      <td>Xavier University of Louisiana</td>\n",
              "      <td>Yes</td>\n",
              "      <td>2097</td>\n",
              "      <td>1915</td>\n",
              "      <td>695</td>\n",
              "      <td>34</td>\n",
              "      <td>61</td>\n",
              "      <td>2793</td>\n",
              "      <td>166</td>\n",
              "      <td>6900</td>\n",
              "      <td>4200</td>\n",
              "      <td>617</td>\n",
              "      <td>781</td>\n",
              "      <td>67</td>\n",
              "      <td>75</td>\n",
              "      <td>14.4</td>\n",
              "      <td>20</td>\n",
              "      <td>8323</td>\n",
              "      <td>49</td>\n",
              "      <td>0</td>\n",
              "    </tr>\n",
              "    <tr>\n",
              "      <th>775</th>\n",
              "      <td>Yale University</td>\n",
              "      <td>Yes</td>\n",
              "      <td>10705</td>\n",
              "      <td>2453</td>\n",
              "      <td>1317</td>\n",
              "      <td>95</td>\n",
              "      <td>99</td>\n",
              "      <td>5217</td>\n",
              "      <td>83</td>\n",
              "      <td>19840</td>\n",
              "      <td>6510</td>\n",
              "      <td>630</td>\n",
              "      <td>2115</td>\n",
              "      <td>96</td>\n",
              "      <td>96</td>\n",
              "      <td>5.8</td>\n",
              "      <td>49</td>\n",
              "      <td>40386</td>\n",
              "      <td>99</td>\n",
              "      <td>1</td>\n",
              "    </tr>\n",
              "    <tr>\n",
              "      <th>776</th>\n",
              "      <td>York College of Pennsylvania</td>\n",
              "      <td>Yes</td>\n",
              "      <td>2989</td>\n",
              "      <td>1855</td>\n",
              "      <td>691</td>\n",
              "      <td>28</td>\n",
              "      <td>63</td>\n",
              "      <td>2988</td>\n",
              "      <td>1726</td>\n",
              "      <td>4990</td>\n",
              "      <td>3560</td>\n",
              "      <td>500</td>\n",
              "      <td>1250</td>\n",
              "      <td>75</td>\n",
              "      <td>75</td>\n",
              "      <td>18.1</td>\n",
              "      <td>28</td>\n",
              "      <td>4509</td>\n",
              "      <td>99</td>\n",
              "      <td>0</td>\n",
              "    </tr>\n",
              "  </tbody>\n",
              "</table>\n",
              "<p>777 rows × 20 columns</p>\n",
              "</div>\n",
              "      <button class=\"colab-df-convert\" onclick=\"convertToInteractive('df-ecf8922b-fcd8-451c-b61c-3c31aa33fd18')\"\n",
              "              title=\"Convert this dataframe to an interactive table.\"\n",
              "              style=\"display:none;\">\n",
              "        \n",
              "  <svg xmlns=\"http://www.w3.org/2000/svg\" height=\"24px\"viewBox=\"0 0 24 24\"\n",
              "       width=\"24px\">\n",
              "    <path d=\"M0 0h24v24H0V0z\" fill=\"none\"/>\n",
              "    <path d=\"M18.56 5.44l.94 2.06.94-2.06 2.06-.94-2.06-.94-.94-2.06-.94 2.06-2.06.94zm-11 1L8.5 8.5l.94-2.06 2.06-.94-2.06-.94L8.5 2.5l-.94 2.06-2.06.94zm10 10l.94 2.06.94-2.06 2.06-.94-2.06-.94-.94-2.06-.94 2.06-2.06.94z\"/><path d=\"M17.41 7.96l-1.37-1.37c-.4-.4-.92-.59-1.43-.59-.52 0-1.04.2-1.43.59L10.3 9.45l-7.72 7.72c-.78.78-.78 2.05 0 2.83L4 21.41c.39.39.9.59 1.41.59.51 0 1.02-.2 1.41-.59l7.78-7.78 2.81-2.81c.8-.78.8-2.07 0-2.86zM5.41 20L4 18.59l7.72-7.72 1.47 1.35L5.41 20z\"/>\n",
              "  </svg>\n",
              "      </button>\n",
              "      \n",
              "  <style>\n",
              "    .colab-df-container {\n",
              "      display:flex;\n",
              "      flex-wrap:wrap;\n",
              "      gap: 12px;\n",
              "    }\n",
              "\n",
              "    .colab-df-convert {\n",
              "      background-color: #E8F0FE;\n",
              "      border: none;\n",
              "      border-radius: 50%;\n",
              "      cursor: pointer;\n",
              "      display: none;\n",
              "      fill: #1967D2;\n",
              "      height: 32px;\n",
              "      padding: 0 0 0 0;\n",
              "      width: 32px;\n",
              "    }\n",
              "\n",
              "    .colab-df-convert:hover {\n",
              "      background-color: #E2EBFA;\n",
              "      box-shadow: 0px 1px 2px rgba(60, 64, 67, 0.3), 0px 1px 3px 1px rgba(60, 64, 67, 0.15);\n",
              "      fill: #174EA6;\n",
              "    }\n",
              "\n",
              "    [theme=dark] .colab-df-convert {\n",
              "      background-color: #3B4455;\n",
              "      fill: #D2E3FC;\n",
              "    }\n",
              "\n",
              "    [theme=dark] .colab-df-convert:hover {\n",
              "      background-color: #434B5C;\n",
              "      box-shadow: 0px 1px 3px 1px rgba(0, 0, 0, 0.15);\n",
              "      filter: drop-shadow(0px 1px 2px rgba(0, 0, 0, 0.3));\n",
              "      fill: #FFFFFF;\n",
              "    }\n",
              "  </style>\n",
              "\n",
              "      <script>\n",
              "        const buttonEl =\n",
              "          document.querySelector('#df-ecf8922b-fcd8-451c-b61c-3c31aa33fd18 button.colab-df-convert');\n",
              "        buttonEl.style.display =\n",
              "          google.colab.kernel.accessAllowed ? 'block' : 'none';\n",
              "\n",
              "        async function convertToInteractive(key) {\n",
              "          const element = document.querySelector('#df-ecf8922b-fcd8-451c-b61c-3c31aa33fd18');\n",
              "          const dataTable =\n",
              "            await google.colab.kernel.invokeFunction('convertToInteractive',\n",
              "                                                     [key], {});\n",
              "          if (!dataTable) return;\n",
              "\n",
              "          const docLinkHtml = 'Like what you see? Visit the ' +\n",
              "            '<a target=\"_blank\" href=https://colab.research.google.com/notebooks/data_table.ipynb>data table notebook</a>'\n",
              "            + ' to learn more about interactive tables.';\n",
              "          element.innerHTML = '';\n",
              "          dataTable['output_type'] = 'display_data';\n",
              "          await google.colab.output.renderOutput(dataTable, element);\n",
              "          const docLink = document.createElement('div');\n",
              "          docLink.innerHTML = docLinkHtml;\n",
              "          element.appendChild(docLink);\n",
              "        }\n",
              "      </script>\n",
              "    </div>\n",
              "  </div>\n",
              "  "
            ],
            "text/plain": [
              "                             School Private   Apps  Accept  Enroll  Top10perc  \\\n",
              "0      Abilene Christian University     Yes   1660    1232     721         23   \n",
              "1                Adelphi University     Yes   2186    1924     512         16   \n",
              "2                    Adrian College     Yes   1428    1097     336         22   \n",
              "3               Agnes Scott College     Yes    417     349     137         60   \n",
              "4         Alaska Pacific University     Yes    193     146      55         16   \n",
              "..                              ...     ...    ...     ...     ...        ...   \n",
              "772         Worcester State College      No   2197    1515     543          4   \n",
              "773               Xavier University     Yes   1959    1805     695         24   \n",
              "774  Xavier University of Louisiana     Yes   2097    1915     695         34   \n",
              "775                 Yale University     Yes  10705    2453    1317         95   \n",
              "776    York College of Pennsylvania     Yes   2989    1855     691         28   \n",
              "\n",
              "     Top25perc  F.Undergrad  P.Undergrad  Outstate  Room.Board  Books  \\\n",
              "0           52         2885          537      7440        3300    450   \n",
              "1           29         2683         1227     12280        6450    750   \n",
              "2           50         1036           99     11250        3750    400   \n",
              "3           89          510           63     12960        5450    450   \n",
              "4           44          249          869      7560        4120    800   \n",
              "..         ...          ...          ...       ...         ...    ...   \n",
              "772         26         3089         2029      6797        3900    500   \n",
              "773         47         2849         1107     11520        4960    600   \n",
              "774         61         2793          166      6900        4200    617   \n",
              "775         99         5217           83     19840        6510    630   \n",
              "776         63         2988         1726      4990        3560    500   \n",
              "\n",
              "     Personal  PhD  Terminal  S.F.Ratio  perc.alumni  Expend  Grad.Rate  \\\n",
              "0        2200   70        78       18.1           12    7041         60   \n",
              "1        1500   29        30       12.2           16   10527         56   \n",
              "2        1165   53        66       12.9           30    8735         54   \n",
              "3         875   92        97        7.7           37   19016         59   \n",
              "4        1500   76        72       11.9            2   10922         15   \n",
              "..        ...  ...       ...        ...          ...     ...        ...   \n",
              "772      1200   60        60       21.0           14    4469         40   \n",
              "773      1250   73        75       13.3           31    9189         83   \n",
              "774       781   67        75       14.4           20    8323         49   \n",
              "775      2115   96        96        5.8           49   40386         99   \n",
              "776      1250   75        75       18.1           28    4509         99   \n",
              "\n",
              "     Selective  \n",
              "0            0  \n",
              "1            0  \n",
              "2            0  \n",
              "3            1  \n",
              "4            0  \n",
              "..         ...  \n",
              "772          0  \n",
              "773          0  \n",
              "774          0  \n",
              "775          1  \n",
              "776          0  \n",
              "\n",
              "[777 rows x 20 columns]"
            ]
          },
          "execution_count": 6,
          "metadata": {},
          "output_type": "execute_result"
        }
      ],
      "source": [
        "df"
      ]
    },
    {
      "cell_type": "code",
      "execution_count": null,
      "metadata": {
        "colab": {
          "base_uri": "https://localhost:8080/",
          "height": 423
        },
        "id": "0K1eyyCHLeQJ",
        "outputId": "3c0abc29-ee62-4e4c-b9a8-81e2ac13101b"
      },
      "outputs": [
        {
          "data": {
            "text/html": [
              "\n",
              "  <div id=\"df-658e2341-d36c-422a-9b69-d8735a5e85ca\">\n",
              "    <div class=\"colab-df-container\">\n",
              "      <div>\n",
              "<style scoped>\n",
              "    .dataframe tbody tr th:only-of-type {\n",
              "        vertical-align: middle;\n",
              "    }\n",
              "\n",
              "    .dataframe tbody tr th {\n",
              "        vertical-align: top;\n",
              "    }\n",
              "\n",
              "    .dataframe thead th {\n",
              "        text-align: right;\n",
              "    }\n",
              "</style>\n",
              "<table border=\"1\" class=\"dataframe\">\n",
              "  <thead>\n",
              "    <tr style=\"text-align: right;\">\n",
              "      <th></th>\n",
              "      <th>Accept</th>\n",
              "      <th>Apps</th>\n",
              "      <th>Expend</th>\n",
              "      <th>S.F.Ratio</th>\n",
              "    </tr>\n",
              "  </thead>\n",
              "  <tbody>\n",
              "    <tr>\n",
              "      <th>0</th>\n",
              "      <td>1232</td>\n",
              "      <td>1660</td>\n",
              "      <td>7041</td>\n",
              "      <td>18.1</td>\n",
              "    </tr>\n",
              "    <tr>\n",
              "      <th>1</th>\n",
              "      <td>1924</td>\n",
              "      <td>2186</td>\n",
              "      <td>10527</td>\n",
              "      <td>12.2</td>\n",
              "    </tr>\n",
              "    <tr>\n",
              "      <th>2</th>\n",
              "      <td>1097</td>\n",
              "      <td>1428</td>\n",
              "      <td>8735</td>\n",
              "      <td>12.9</td>\n",
              "    </tr>\n",
              "    <tr>\n",
              "      <th>3</th>\n",
              "      <td>349</td>\n",
              "      <td>417</td>\n",
              "      <td>19016</td>\n",
              "      <td>7.7</td>\n",
              "    </tr>\n",
              "    <tr>\n",
              "      <th>4</th>\n",
              "      <td>146</td>\n",
              "      <td>193</td>\n",
              "      <td>10922</td>\n",
              "      <td>11.9</td>\n",
              "    </tr>\n",
              "    <tr>\n",
              "      <th>...</th>\n",
              "      <td>...</td>\n",
              "      <td>...</td>\n",
              "      <td>...</td>\n",
              "      <td>...</td>\n",
              "    </tr>\n",
              "    <tr>\n",
              "      <th>772</th>\n",
              "      <td>1515</td>\n",
              "      <td>2197</td>\n",
              "      <td>4469</td>\n",
              "      <td>21.0</td>\n",
              "    </tr>\n",
              "    <tr>\n",
              "      <th>773</th>\n",
              "      <td>1805</td>\n",
              "      <td>1959</td>\n",
              "      <td>9189</td>\n",
              "      <td>13.3</td>\n",
              "    </tr>\n",
              "    <tr>\n",
              "      <th>774</th>\n",
              "      <td>1915</td>\n",
              "      <td>2097</td>\n",
              "      <td>8323</td>\n",
              "      <td>14.4</td>\n",
              "    </tr>\n",
              "    <tr>\n",
              "      <th>775</th>\n",
              "      <td>2453</td>\n",
              "      <td>10705</td>\n",
              "      <td>40386</td>\n",
              "      <td>5.8</td>\n",
              "    </tr>\n",
              "    <tr>\n",
              "      <th>776</th>\n",
              "      <td>1855</td>\n",
              "      <td>2989</td>\n",
              "      <td>4509</td>\n",
              "      <td>18.1</td>\n",
              "    </tr>\n",
              "  </tbody>\n",
              "</table>\n",
              "<p>777 rows × 4 columns</p>\n",
              "</div>\n",
              "      <button class=\"colab-df-convert\" onclick=\"convertToInteractive('df-658e2341-d36c-422a-9b69-d8735a5e85ca')\"\n",
              "              title=\"Convert this dataframe to an interactive table.\"\n",
              "              style=\"display:none;\">\n",
              "        \n",
              "  <svg xmlns=\"http://www.w3.org/2000/svg\" height=\"24px\"viewBox=\"0 0 24 24\"\n",
              "       width=\"24px\">\n",
              "    <path d=\"M0 0h24v24H0V0z\" fill=\"none\"/>\n",
              "    <path d=\"M18.56 5.44l.94 2.06.94-2.06 2.06-.94-2.06-.94-.94-2.06-.94 2.06-2.06.94zm-11 1L8.5 8.5l.94-2.06 2.06-.94-2.06-.94L8.5 2.5l-.94 2.06-2.06.94zm10 10l.94 2.06.94-2.06 2.06-.94-2.06-.94-.94-2.06-.94 2.06-2.06.94z\"/><path d=\"M17.41 7.96l-1.37-1.37c-.4-.4-.92-.59-1.43-.59-.52 0-1.04.2-1.43.59L10.3 9.45l-7.72 7.72c-.78.78-.78 2.05 0 2.83L4 21.41c.39.39.9.59 1.41.59.51 0 1.02-.2 1.41-.59l7.78-7.78 2.81-2.81c.8-.78.8-2.07 0-2.86zM5.41 20L4 18.59l7.72-7.72 1.47 1.35L5.41 20z\"/>\n",
              "  </svg>\n",
              "      </button>\n",
              "      \n",
              "  <style>\n",
              "    .colab-df-container {\n",
              "      display:flex;\n",
              "      flex-wrap:wrap;\n",
              "      gap: 12px;\n",
              "    }\n",
              "\n",
              "    .colab-df-convert {\n",
              "      background-color: #E8F0FE;\n",
              "      border: none;\n",
              "      border-radius: 50%;\n",
              "      cursor: pointer;\n",
              "      display: none;\n",
              "      fill: #1967D2;\n",
              "      height: 32px;\n",
              "      padding: 0 0 0 0;\n",
              "      width: 32px;\n",
              "    }\n",
              "\n",
              "    .colab-df-convert:hover {\n",
              "      background-color: #E2EBFA;\n",
              "      box-shadow: 0px 1px 2px rgba(60, 64, 67, 0.3), 0px 1px 3px 1px rgba(60, 64, 67, 0.15);\n",
              "      fill: #174EA6;\n",
              "    }\n",
              "\n",
              "    [theme=dark] .colab-df-convert {\n",
              "      background-color: #3B4455;\n",
              "      fill: #D2E3FC;\n",
              "    }\n",
              "\n",
              "    [theme=dark] .colab-df-convert:hover {\n",
              "      background-color: #434B5C;\n",
              "      box-shadow: 0px 1px 3px 1px rgba(0, 0, 0, 0.15);\n",
              "      filter: drop-shadow(0px 1px 2px rgba(0, 0, 0, 0.3));\n",
              "      fill: #FFFFFF;\n",
              "    }\n",
              "  </style>\n",
              "\n",
              "      <script>\n",
              "        const buttonEl =\n",
              "          document.querySelector('#df-658e2341-d36c-422a-9b69-d8735a5e85ca button.colab-df-convert');\n",
              "        buttonEl.style.display =\n",
              "          google.colab.kernel.accessAllowed ? 'block' : 'none';\n",
              "\n",
              "        async function convertToInteractive(key) {\n",
              "          const element = document.querySelector('#df-658e2341-d36c-422a-9b69-d8735a5e85ca');\n",
              "          const dataTable =\n",
              "            await google.colab.kernel.invokeFunction('convertToInteractive',\n",
              "                                                     [key], {});\n",
              "          if (!dataTable) return;\n",
              "\n",
              "          const docLinkHtml = 'Like what you see? Visit the ' +\n",
              "            '<a target=\"_blank\" href=https://colab.research.google.com/notebooks/data_table.ipynb>data table notebook</a>'\n",
              "            + ' to learn more about interactive tables.';\n",
              "          element.innerHTML = '';\n",
              "          dataTable['output_type'] = 'display_data';\n",
              "          await google.colab.output.renderOutput(dataTable, element);\n",
              "          const docLink = document.createElement('div');\n",
              "          docLink.innerHTML = docLinkHtml;\n",
              "          element.appendChild(docLink);\n",
              "        }\n",
              "      </script>\n",
              "    </div>\n",
              "  </div>\n",
              "  "
            ],
            "text/plain": [
              "     Accept   Apps  Expend  S.F.Ratio\n",
              "0      1232   1660    7041       18.1\n",
              "1      1924   2186   10527       12.2\n",
              "2      1097   1428    8735       12.9\n",
              "3       349    417   19016        7.7\n",
              "4       146    193   10922       11.9\n",
              "..      ...    ...     ...        ...\n",
              "772    1515   2197    4469       21.0\n",
              "773    1805   1959    9189       13.3\n",
              "774    1915   2097    8323       14.4\n",
              "775    2453  10705   40386        5.8\n",
              "776    1855   2989    4509       18.1\n",
              "\n",
              "[777 rows x 4 columns]"
            ]
          },
          "execution_count": 7,
          "metadata": {},
          "output_type": "execute_result"
        }
      ],
      "source": [
        "df1 = df[['Accept', 'Apps', 'Expend', 'S.F.Ratio']].copy()\n",
        "df1"
      ]
    },
    {
      "cell_type": "code",
      "execution_count": null,
      "metadata": {
        "id": "FMSZNy9BPD5g"
      },
      "outputs": [],
      "source": [
        "import seaborn as sns\n",
        "sns.set(font_scale=1.2)"
      ]
    },
    {
      "cell_type": "code",
      "execution_count": null,
      "metadata": {
        "colab": {
          "base_uri": "https://localhost:8080/",
          "height": 759
        },
        "id": "ATYIFy2OPRqV",
        "outputId": "5c0edcba-7447-46fe-cf54-3a41ff3e687b"
      },
      "outputs": [
        {
          "data": {
            "text/plain": [
              "<seaborn.axisgrid.PairGrid at 0x7f5d09a5c910>"
            ]
          },
          "execution_count": 9,
          "metadata": {},
          "output_type": "execute_result"
        },
        {
          "data": {
            "image/png": "[encoded data removed]",
            "text/plain": [
              "<Figure size 720x720 with 20 Axes>"
            ]
          },
          "metadata": {},
          "output_type": "display_data"
        }
      ],
      "source": [
        "sns.pairplot(df1)"
      ]
    },
    {
      "cell_type": "code",
      "execution_count": null,
      "metadata": {
        "colab": {
          "base_uri": "https://localhost:8080/",
          "height": 658
        },
        "id": "HEjZcL0rLoYk",
        "outputId": "9f0dd68e-a757-4e15-ee32-28baa0652343"
      },
      "outputs": [
        {
          "data": {
            "text/plain": [
              "<seaborn.axisgrid.PairGrid at 0x7f5d09a5cd60>"
            ]
          },
          "execution_count": 10,
          "metadata": {},
          "output_type": "execute_result"
        },
        {
          "data": {
            "image/png": "[encoded data removed]",
            "text/plain": [
              "<Figure size 796.56x720 with 20 Axes>"
            ]
          },
          "metadata": {},
          "output_type": "display_data"
        }
      ],
      "source": [
        "sns.pairplot(df, x_vars = ['Accept', 'Apps', 'Expend', 'S.F.Ratio'], y_vars = ['Accept', 'Apps', 'Expend', 'S.F.Ratio'], hue='Selective')"
      ]
    },
    {
      "cell_type": "code",
      "execution_count": null,
      "metadata": {
        "id": "K7HZ2nH7P7pG"
      },
      "outputs": [],
      "source": [
        "#Choose which data is featuers (X) and labels (y)\n",
        "X = df[[\"Accept\",\"Apps\"]].to_numpy()\n",
        "y = df[\"Selective\"].to_numpy()"
      ]
    },
    {
      "cell_type": "code",
      "execution_count": null,
      "metadata": {
        "id": "WNIZ1ZAJRBEh"
      },
      "outputs": [],
      "source": [
        "def train_test_split(X,y,test_size):\n",
        "  numRows = y.size                     #number or rows in the entire dataset\n",
        "  splitPoint = int(test_size*numRows)  #the row index test_size% of the way through\n",
        "  p = np.random.permutation(numRows)   #array for shuffling data\n",
        "  X = X[p]\n",
        "  y = y[p]\n",
        "\n",
        "  #Training data array\n",
        "  X_train = X[:splitPoint]  # training features\n",
        "  y_train = y[:splitPoint]  # training labels\n",
        "\n",
        "  #Testing data array\n",
        "  X_test = X[splitPoint:]  # testing features\n",
        "  y_test = y[splitPoint:] # testing labels\n",
        "\n",
        "  return X_train, X_test, y_train, y_test"
      ]
    },
    {
      "cell_type": "code",
      "execution_count": null,
      "metadata": {
        "id": "lsqpVlknSRbs"
      },
      "outputs": [],
      "source": [
        "X_train, X_test, y_train, y_test = train_test_split(X,y,0.33)"
      ]
    },
    {
      "cell_type": "code",
      "execution_count": null,
      "metadata": {
        "id": "HRaYUEPBWuzW"
      },
      "outputs": [],
      "source": [
        "def nn_classify_sample(training_set, training_labels, new_example):\n",
        "  dists = np.array([np.sum( (t-new_example)**2) for t in training_set])\n",
        "  nearest = dists.argmin()\n",
        "  return training_labels[nearest]\n",
        "\n",
        "def nn_classify(train_data, train_features, test_features):\n",
        "  num_result = test_features[:,0].size\n",
        "  result = np.ones(num_result)\n",
        "  for i in range(0,num_result):\n",
        "    result[i] = nn_classify_sample(train_data[:,0:2], train_features, test_features[i])\n",
        "  return result"
      ]
    },
    {
      "cell_type": "code",
      "execution_count": null,
      "metadata": {
        "id": "fuZ5yc8FVyY6"
      },
      "outputs": [],
      "source": [
        "X_train, X_test, y_train, y_test = train_test_split(doc_features, labels, test_size=0.33)"
      ]
    },
    {
      "cell_type": "code",
      "execution_count": null,
      "metadata": {
        "id": "oRljNPQRXEoe"
      },
      "outputs": [],
      "source": [
        "def accuracy(classify, X_train, y_train, X_test, y_test):\n",
        "  pred = classify(X_train, y_train, X_test)\n",
        "  correct_pred = (pred == y_test)\n",
        "  total_preds = y_test.size\n",
        "  return correct_pred.sum()/total_preds"
      ]
    },
    {
      "cell_type": "code",
      "execution_count": null,
      "metadata": {
        "colab": {
          "base_uri": "https://localhost:8080/"
        },
        "id": "UCn4i-kOXIdq",
        "outputId": "e6997c0d-5f33-4a28-c306-345c5de5a523"
      },
      "outputs": [
        {
          "data": {
            "text/plain": [
              "0.9059500959692899"
            ]
          },
          "execution_count": 16,
          "metadata": {},
          "output_type": "execute_result"
        }
      ],
      "source": [
        "accuracy(nn_classify, X_train, y_train, X_test, y_test)"
      ]
    },
    {
      "cell_type": "code",
      "execution_count": null,
      "metadata": {
        "id": "1AHJfn-4bFRU"
      },
      "outputs": [],
      "source": [
        "from sklearn import neighbors\n",
        "from sklearn.neighbors import KNeighborsClassifier"
      ]
    },
    {
      "cell_type": "code",
      "execution_count": null,
      "metadata": {
        "id": "rJ-mukxTcw_T"
      },
      "outputs": [],
      "source": [
        "from sklearn.metrics import precision_score, recall_score, f1_score, accuracy_score"
      ]
    },
    {
      "cell_type": "code",
      "execution_count": null,
      "metadata": {
        "id": "owwK_fFBbIhh"
      },
      "outputs": [],
      "source": [
        "def knn_classifier(X_train, y_train, X_test):\n",
        "  # instantiate learning model and fit data\n",
        "  knn = KNeighborsClassifier(n_neighbors=k)\n",
        "  knn.fit(X_train, y_train)\n",
        "\n",
        "  # predict the response\n",
        "  pred = knn.predict(X_test)\n",
        "  return pred"
      ]
    },
    {
      "cell_type": "markdown",
      "metadata": {
        "id": "xeZaE7wGcCO8"
      },
      "source": [
        "Testing smaller K values:"
      ]
    },
    {
      "cell_type": "code",
      "execution_count": null,
      "metadata": {
        "colab": {
          "base_uri": "https://localhost:8080/"
        },
        "id": "-2WSEzYsbdgE",
        "outputId": "03c5a424-fa39-4f73-b775-c6ea98f7ab30"
      },
      "outputs": [
        {
          "data": {
            "text/plain": [
              "0.9117082533589251"
            ]
          },
          "execution_count": 42,
          "metadata": {},
          "output_type": "execute_result"
        }
      ],
      "source": [
        "k = 2 #awful hack!\n",
        "X_train, X_test, y_train, y_test = train_test_split(X,y,0.33)\n",
        "pred = knn_classifier(X_train, y_train, X_test)\n",
        "acc = accuracy(knn_classifier, X_train, y_train, X_test, y_test)\n",
        "acc"
      ]
    },
    {
      "cell_type": "code",
      "execution_count": null,
      "metadata": {
        "colab": {
          "base_uri": "https://localhost:8080/"
        },
        "id": "YpRcHtaqOEM-",
        "outputId": "c4aebee5-3ec0-4590-cc8c-d4c751cc5906"
      },
      "outputs": [
        {
          "name": "stdout",
          "output_type": "stream",
          "text": [
            "Precision: 0.545\n",
            "Recall: 0.250\n",
            "F1-Score: 0.343\n"
          ]
        }
      ],
      "source": [
        "prec = precision_score(y_test, pred)\n",
        "print('Precision: %.3f' % prec)\n",
        "rec = recall_score(y_test, pred)\n",
        "print('Recall: %.3f' % rec)\n",
        "f1_s =  2*(prec*rec)/(prec+rec)\n",
        "print('F1-Score: %.3f' %f1_s)"
      ]
    },
    {
      "cell_type": "markdown",
      "metadata": {
        "id": "cXEz9fPI4p1W"
      },
      "source": [
        "Training set"
      ]
    },
    {
      "cell_type": "code",
      "execution_count": null,
      "metadata": {
        "colab": {
          "base_uri": "https://localhost:8080/"
        },
        "id": "-dqWS1tg348Y",
        "outputId": "8cb3f713-f58a-4125-b1e8-69e204617161"
      },
      "outputs": [
        {
          "data": {
            "text/plain": [
              "0.9140625"
            ]
          },
          "execution_count": 59,
          "metadata": {},
          "output_type": "execute_result"
        }
      ],
      "source": [
        "k = 2 #awful hack!\n",
        "X_train, X_test, y_train, y_test = train_test_split(X,y,0.33)\n",
        "pred = knn_classifier(X_train, y_train, X_train)\n",
        "acc = accuracy(knn_classifier, X_train, y_train, X_train, y_train)\n",
        "acc"
      ]
    },
    {
      "cell_type": "code",
      "execution_count": null,
      "metadata": {
        "colab": {
          "base_uri": "https://localhost:8080/"
        },
        "id": "xHpdxwPk34vK",
        "outputId": "31f9e920-d088-47c6-f3c3-de628cf337d5"
      },
      "outputs": [
        {
          "name": "stdout",
          "output_type": "stream",
          "text": [
            "Precision: 1.000\n",
            "Recall: 0.267\n",
            "F1-Score: 0.421\n"
          ]
        }
      ],
      "source": [
        "prec = precision_score(y_train, pred)\n",
        "print('Precision: %.3f' % prec)\n",
        "rec = recall_score(y_train, pred)\n",
        "print('Recall: %.3f' % rec)\n",
        "f1_s =  2*(prec*rec)/(prec+rec)\n",
        "print('F1-Score: %.3f' %f1_s)"
      ]
    },
    {
      "cell_type": "markdown",
      "metadata": {
        "id": "IVEafcdUcL4a"
      },
      "source": [
        "Testing with a larger K value"
      ]
    },
    {
      "cell_type": "code",
      "execution_count": null,
      "metadata": {
        "colab": {
          "base_uri": "https://localhost:8080/"
        },
        "id": "QXlUmQRAb6kI",
        "outputId": "67e7d578-390d-476e-bd01-84802ac78be7"
      },
      "outputs": [
        {
          "data": {
            "text/plain": [
              "0.9097888675623801"
            ]
          },
          "execution_count": 44,
          "metadata": {},
          "output_type": "execute_result"
        }
      ],
      "source": [
        "k = 100 #awful hack!\n",
        "X_train, X_test, y_train, y_test = train_test_split(X,y,0.33)\n",
        "pred = knn_classifier(X_train, y_train, X_test)\n",
        "acc = accuracy(knn_classifier, X_train, y_train, X_test, y_test)\n",
        "acc"
      ]
    },
    {
      "cell_type": "code",
      "execution_count": null,
      "metadata": {
        "colab": {
          "base_uri": "https://localhost:8080/"
        },
        "id": "GasjUuVXNkjD",
        "outputId": "14afbda7-a8bf-40f4-f3f8-cb78bf857d38"
      },
      "outputs": [
        {
          "name": "stdout",
          "output_type": "stream",
          "text": [
            "Precision: 0.000\n",
            "Recall: 0.000\n",
            "F1-Score: nan\n"
          ]
        },
        {
          "name": "stderr",
          "output_type": "stream",
          "text": [
            "/usr/local/lib/python3.8/dist-packages/sklearn/metrics/_classification.py:1318: UndefinedMetricWarning: Precision is ill-defined and being set to 0.0 due to no predicted samples. Use `zero_division` parameter to control this behavior.\n",
            "  _warn_prf(average, modifier, msg_start, len(result))\n",
            "<ipython-input-46-a0f7734c6f1a>:5: RuntimeWarning: invalid value encountered in double_scalars\n",
            "  f1_s =  2*(prec*rec)/(prec+rec)\n"
          ]
        }
      ],
      "source": [
        "prec = precision_score(y_test, pred)\n",
        "print('Precision: %.3f' % prec)\n",
        "rec = recall_score(y_test, pred)\n",
        "print('Recall: %.3f' % rec)\n",
        "f1_s =  2*(prec*rec)/(prec+rec)\n",
        "print('F1-Score: %.3f' %f1_s)"
      ]
    },
    {
      "cell_type": "markdown",
      "metadata": {
        "id": "LITwePD04ySa"
      },
      "source": [
        "Training Set"
      ]
    },
    {
      "cell_type": "code",
      "execution_count": null,
      "metadata": {
        "colab": {
          "base_uri": "https://localhost:8080/"
        },
        "id": "REIShF2d40VF",
        "outputId": "2fa91267-6678-4a72-b606-09e267a84232"
      },
      "outputs": [
        {
          "data": {
            "text/plain": [
              "0.88671875"
            ]
          },
          "execution_count": 55,
          "metadata": {},
          "output_type": "execute_result"
        }
      ],
      "source": [
        "k = 100 #awful hack!\n",
        "X_train, X_test, y_train, y_test = train_test_split(X,y,0.33)\n",
        "pred = knn_classifier(X_train, y_train, X_train)\n",
        "acc = accuracy(knn_classifier, X_train, y_train, X_train, y_train)\n",
        "acc"
      ]
    },
    {
      "cell_type": "code",
      "execution_count": null,
      "metadata": {
        "colab": {
          "base_uri": "https://localhost:8080/"
        },
        "id": "nEnJinjf417b",
        "outputId": "ed352378-3377-4929-f1fa-6193ec2d25f0"
      },
      "outputs": [
        {
          "name": "stdout",
          "output_type": "stream",
          "text": [
            "Precision: 0.000\n",
            "Recall: 0.000\n",
            "F1-Score: nan\n"
          ]
        },
        {
          "name": "stderr",
          "output_type": "stream",
          "text": [
            "/usr/local/lib/python3.8/dist-packages/sklearn/metrics/_classification.py:1318: UndefinedMetricWarning: Precision is ill-defined and being set to 0.0 due to no predicted samples. Use `zero_division` parameter to control this behavior.\n",
            "  _warn_prf(average, modifier, msg_start, len(result))\n",
            "<ipython-input-56-f73ec8fa42d1>:5: RuntimeWarning: invalid value encountered in double_scalars\n",
            "  f1_s =  2*(prec*rec)/(prec+rec)\n"
          ]
        }
      ],
      "source": [
        "prec = precision_score(y_train, pred)\n",
        "print('Precision: %.3f' % prec)\n",
        "rec = recall_score(y_train, pred)\n",
        "print('Recall: %.3f' % rec)\n",
        "f1_s =  2*(prec*rec)/(prec+rec)\n",
        "print('F1-Score: %.3f' %f1_s)"
      ]
    },
    {
      "cell_type": "markdown",
      "metadata": {
        "id": "zr3acQ1Pua97"
      },
      "source": [
        "Testing with classifier that classifies all schools as Selective"
      ]
    },
    {
      "cell_type": "code",
      "execution_count": null,
      "metadata": {
        "colab": {
          "base_uri": "https://localhost:8080/"
        },
        "id": "A3RD9nkCjfhD",
        "outputId": "2b6c79ad-e84f-4b2a-f976-faa1e90d8609"
      },
      "outputs": [
        {
          "data": {
            "text/plain": [
              "0.09980806142034548"
            ]
          },
          "execution_count": 47,
          "metadata": {},
          "output_type": "execute_result"
        }
      ],
      "source": [
        "k =5\n",
        "X_train, X_test, y_train, y_test = train_test_split(X,y,0.33)\n",
        "\n",
        "y_train_all_yes = y_train.copy()\n",
        "for i, x in enumerate(y_train_all_yes):\n",
        "  y_train_all_yes[i] = 1\n",
        "\n",
        "pred = knn_classifier(X_train, y_train, X_test)\n",
        "acc = accuracy(knn_classifier, X_train, y_train_all_yes, X_test, y_test)\n",
        "acc"
      ]
    },
    {
      "cell_type": "code",
      "execution_count": null,
      "metadata": {
        "colab": {
          "base_uri": "https://localhost:8080/"
        },
        "id": "bSprZZOmhuSI",
        "outputId": "ae7aac25-fd5b-4c3d-fc0a-abc9bd4c0694"
      },
      "outputs": [
        {
          "name": "stdout",
          "output_type": "stream",
          "text": [
            "Precision: 0.762\n",
            "Recall: 0.308\n",
            "F1-Score: 0.438\n"
          ]
        }
      ],
      "source": [
        "prec = precision_score(y_test, pred)\n",
        "print('Precision: %.3f' % prec)\n",
        "rec = recall_score(y_test, pred)\n",
        "print('Recall: %.3f' % rec)\n",
        "f1_s =  2*(prec*rec)/(prec+rec)\n",
        "print('F1-Score: %.3f' %f1_s)"
      ]
    },
    {
      "cell_type": "markdown",
      "metadata": {
        "id": "oyj_9E4448Bd"
      },
      "source": [
        "Training set"
      ]
    },
    {
      "cell_type": "code",
      "execution_count": null,
      "metadata": {
        "colab": {
          "base_uri": "https://localhost:8080/"
        },
        "id": "wNS8IHr149Tt",
        "outputId": "8fd79aa2-b1d4-4371-de67-69f867a13b2e"
      },
      "outputs": [
        {
          "data": {
            "text/plain": [
              "0.94140625"
            ]
          },
          "execution_count": 57,
          "metadata": {},
          "output_type": "execute_result"
        }
      ],
      "source": [
        "k =5\n",
        "X_train, X_test, y_train, y_test = train_test_split(X,y,0.33)\n",
        "\n",
        "y_train_all_yes = y_train.copy()\n",
        "for i, x in enumerate(y_train_all_yes):\n",
        "  y_train_all_yes[i] = 1\n",
        "\n",
        "pred = knn_classifier(X_train, y_train, X_train)\n",
        "acc = accuracy(knn_classifier, X_train, y_train, X_train, y_train)\n",
        "acc"
      ]
    },
    {
      "cell_type": "code",
      "execution_count": null,
      "metadata": {
        "colab": {
          "base_uri": "https://localhost:8080/"
        },
        "id": "UOMkjsHS5Hfa",
        "outputId": "162598dc-05cf-439f-fc93-617e14b5dfae"
      },
      "outputs": [
        {
          "name": "stdout",
          "output_type": "stream",
          "text": [
            "Precision: 0.833\n",
            "Recall: 0.435\n",
            "F1-Score: 0.571\n"
          ]
        }
      ],
      "source": [
        "prec = precision_score(y_train, pred)\n",
        "print('Precision: %.3f' % prec)\n",
        "rec = recall_score(y_train, pred)\n",
        "print('Recall: %.3f' % rec)\n",
        "f1_s =  2*(prec*rec)/(prec+rec)\n",
        "print('F1-Score: %.3f' %f1_s)"
      ]
    },
    {
      "cell_type": "markdown",
      "metadata": {
        "id": "AUSpDNtrupA4"
      },
      "source": [
        "Testing with classifier that classifies none of the schools as Selective"
      ]
    },
    {
      "cell_type": "code",
      "execution_count": null,
      "metadata": {
        "colab": {
          "base_uri": "https://localhost:8080/"
        },
        "id": "jIt45CBSjfNz",
        "outputId": "93f06e49-b871-4124-a170-65353f966089"
      },
      "outputs": [
        {
          "data": {
            "text/plain": [
              "0.9021113243761996"
            ]
          },
          "execution_count": 49,
          "metadata": {},
          "output_type": "execute_result"
        }
      ],
      "source": [
        "k =5\n",
        "X_train, X_test, y_train, y_test = train_test_split(X,y,0.33)\n",
        "\n",
        "y_train_all_no = y_train.copy()\n",
        "for i, x in enumerate(y_train_all_no):\n",
        "  y_train_all_no[i] = 0\n",
        "\n",
        "pred = knn_classifier(X_train, y_train, X_test)\n",
        "acc = accuracy(knn_classifier, X_train, y_train_all_no, X_test, y_test)\n",
        "acc"
      ]
    },
    {
      "cell_type": "code",
      "execution_count": null,
      "metadata": {
        "colab": {
          "base_uri": "https://localhost:8080/"
        },
        "id": "wwYHPiS2jfDy",
        "outputId": "8348c2c8-1645-4020-dcea-500d72b82727"
      },
      "outputs": [
        {
          "name": "stdout",
          "output_type": "stream",
          "text": [
            "Precision: 0.700\n",
            "Recall: 0.275\n",
            "F1-Score: 0.394\n"
          ]
        }
      ],
      "source": [
        "prec = precision_score(y_test, pred)\n",
        "print('Precision: %.3f' % prec)\n",
        "rec = recall_score(y_test, pred)\n",
        "print('Recall: %.3f' % rec)\n",
        "f1_s =  2*(prec*rec)/(prec+rec)\n",
        "print('F1-Score: %.3f' %f1_s)"
      ]
    },
    {
      "cell_type": "markdown",
      "metadata": {
        "id": "aIFDIThJ5t_H"
      },
      "source": [
        "Training Set"
      ]
    },
    {
      "cell_type": "code",
      "execution_count": null,
      "metadata": {
        "colab": {
          "base_uri": "https://localhost:8080/"
        },
        "id": "0_RWPE_i5vdh",
        "outputId": "d250a48d-111c-4627-dc26-0e1fe5a5c59b"
      },
      "outputs": [
        {
          "data": {
            "text/plain": [
              "0.9296875"
            ]
          },
          "execution_count": 61,
          "metadata": {},
          "output_type": "execute_result"
        }
      ],
      "source": [
        " k=5\n",
        "X_train, X_test, y_train, y_test = train_test_split(X,y,0.33)\n",
        "\n",
        "y_train_all_no = y_train.copy()\n",
        "for i, x in enumerate(y_train_all_no):\n",
        "  y_train_all_no[i] = 0\n",
        "\n",
        "pred = knn_classifier(X_train, y_train, X_train)\n",
        "acc = accuracy(knn_classifier, X_train, y_train, X_train, y_train)\n",
        "acc"
      ]
    },
    {
      "cell_type": "code",
      "execution_count": null,
      "metadata": {
        "colab": {
          "base_uri": "https://localhost:8080/"
        },
        "id": "aCxlEZu-54we",
        "outputId": "23ffc4eb-fe3a-4e73-a9b5-9b5fc62139f3"
      },
      "outputs": [
        {
          "name": "stdout",
          "output_type": "stream",
          "text": [
            "Precision: 0.833\n",
            "Recall: 0.385\n",
            "F1-Score: 0.526\n"
          ]
        }
      ],
      "source": [
        "prec = precision_score(y_train, pred)\n",
        "print('Precision: %.3f' % prec)\n",
        "rec = recall_score(y_train, pred)\n",
        "print('Recall: %.3f' % rec)\n",
        "f1_s =  2*(prec*rec)/(prec+rec)\n",
        "print('F1-Score: %.3f' %f1_s)"
      ]
    }
  ],
  "metadata": {
    "colab": {
      "provenance": []
    },
    "kernelspec": {
      "display_name": "Python 3",
      "name": "python3"
    },
    "language_info": {
      "name": "python"
    }
  },
  "nbformat": 4,
  "nbformat_minor": 0
}
